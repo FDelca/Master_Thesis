{
 "cells": [
  {
   "cell_type": "markdown",
   "metadata": {
    "deletable": false,
    "editable": false
   },
   "source": [
    "# 00-Data Treatment\n",
    "\n",
    "\n",
    "The data set available for this work may be grouped into two different categories:\n",
    "- **Energy Consumption Data (ECD)**\n",
    "    - Buildings energy consumption:\n",
    "        - Civil\n",
    "        - South Tower\n",
    "    \n",
    "    \n",
    "- **Weather Conditions Data (WCD)**\n",
    "    - outdoor weather temperature\n",
    "    - relative humidity\n",
    "    - solar radiation\n",
    "    - ...\n",
    "\n",
    "As natural, data gathered from sensors and electric meters, often called as **raw data**, includes incomplete, imprecise, and noisy values.\n",
    "To proceed to the model development, it is mandatory to acknowledge and handle the uncertainty of it. \n",
    "\n",
    "To address that, in this notebook, were are going to perform four sequential steps:\n",
    "1. Frequency preservation\n",
    "2. Outliers analysis\n",
    "3. Data Imputation Study\n",
    "4. Imputation Strategies - Creation of different datasets\n",
    "\n",
    "**NOTE:** The first step will not be shown, since it is just an hourly frequency preservation to keep the data set time continuity. Meaning that, every missing or repeating hour, was added or deleted, respectively, creating a missing value row if needed.\n"
   ]
  },
  {
   "cell_type": "code",
   "execution_count": 8,
   "metadata": {
    "ExecuteTime": {
     "end_time": "2020-05-10T15:59:26.872320Z",
     "start_time": "2020-05-10T15:59:26.744670Z"
    },
    "deletable": false,
    "editable": false
   },
   "outputs": [],
   "source": [
    "# Import packages\n",
    "import pandas as pd\n",
    "import numpy as np\n",
    "from scipy import stats\n",
    "import missingno as msno\n",
    "import matplotlib.pyplot as plt\n",
    "%matplotlib inline\n",
    "import warnings; warnings.simplefilter('ignore')"
   ]
  },
  {
   "cell_type": "markdown",
   "metadata": {},
   "source": [
    "**Import and Concatenate the data**"
   ]
  },
  {
   "cell_type": "code",
   "execution_count": 9,
   "metadata": {
    "ExecuteTime": {
     "end_time": "2020-05-10T15:59:28.414188Z",
     "start_time": "2020-05-10T15:59:28.277792Z"
    },
    "deletable": false,
    "editable": false
   },
   "outputs": [],
   "source": [
    "dt_2014 = pd.read_csv('Preprocessed_Data/_00_dt_2014.csv',index_col=[0],parse_dates=[0], header=0)\n",
    "dt_2017_18 = pd.read_csv('Preprocessed_Data/_00_dt_2017_18.csv',index_col=[0],parse_dates=[0], header=0)\n",
    "\n",
    "# Concatenate both dataframes\n",
    "dt_2014.reset_index(inplace=True)\n",
    "dt_2017_18.reset_index(inplace=True)\n",
    "\n",
    "dt = pd.concat([dt_2014, dt_2017_18])\n",
    "dt.set_index('timestamp', inplace=True)\n",
    "\n",
    "# Drop the Buildings that are not going to be evaluated\n",
    "dt = dt.drop(['central', 'north_tower'], 1)"
   ]
  },
  {
   "cell_type": "markdown",
   "metadata": {
    "ExecuteTime": {
     "end_time": "2020-04-14T18:31:56.945469Z",
     "start_time": "2020-04-14T18:31:56.939512Z"
    }
   },
   "source": [
    "**Check the dataframes**"
   ]
  },
  {
   "cell_type": "code",
   "execution_count": 10,
   "metadata": {
    "ExecuteTime": {
     "end_time": "2020-05-10T15:59:28.662638Z",
     "start_time": "2020-05-10T15:59:28.646674Z"
    },
    "cell_style": "center",
    "deletable": false,
    "editable": false,
    "scrolled": true
   },
   "outputs": [
    {
     "data": {
      "text/html": [
       "<div>\n",
       "<style scoped>\n",
       "    .dataframe tbody tr th:only-of-type {\n",
       "        vertical-align: middle;\n",
       "    }\n",
       "\n",
       "    .dataframe tbody tr th {\n",
       "        vertical-align: top;\n",
       "    }\n",
       "\n",
       "    .dataframe thead th {\n",
       "        text-align: right;\n",
       "    }\n",
       "</style>\n",
       "<table border=\"1\" class=\"dataframe\">\n",
       "  <thead>\n",
       "    <tr style=\"text-align: right;\">\n",
       "      <th></th>\n",
       "      <th>civil</th>\n",
       "      <th>south_tower</th>\n",
       "      <th>wt_temp</th>\n",
       "      <th>wt_tmpap</th>\n",
       "      <th>wt_hr</th>\n",
       "      <th>wt_max_windgust</th>\n",
       "      <th>wt_mean_windspd</th>\n",
       "      <th>wt_mean_pres</th>\n",
       "      <th>wt_mean_solarrad</th>\n",
       "      <th>wt_rain_day</th>\n",
       "    </tr>\n",
       "    <tr>\n",
       "      <th>timestamp</th>\n",
       "      <th></th>\n",
       "      <th></th>\n",
       "      <th></th>\n",
       "      <th></th>\n",
       "      <th></th>\n",
       "      <th></th>\n",
       "      <th></th>\n",
       "      <th></th>\n",
       "      <th></th>\n",
       "      <th></th>\n",
       "    </tr>\n",
       "  </thead>\n",
       "  <tbody>\n",
       "    <tr>\n",
       "      <th>2014-01-01 01:00:00</th>\n",
       "      <td>65.99413</td>\n",
       "      <td>114.897996</td>\n",
       "      <td>12.6</td>\n",
       "      <td>10.5</td>\n",
       "      <td>88.3</td>\n",
       "      <td>7.3</td>\n",
       "      <td>3.4</td>\n",
       "      <td>1021.0</td>\n",
       "      <td>0.6</td>\n",
       "      <td>4.9</td>\n",
       "    </tr>\n",
       "    <tr>\n",
       "      <th>2014-01-01 02:00:00</th>\n",
       "      <td>66.20412</td>\n",
       "      <td>114.819072</td>\n",
       "      <td>12.9</td>\n",
       "      <td>10.3</td>\n",
       "      <td>87.3</td>\n",
       "      <td>7.8</td>\n",
       "      <td>4.0</td>\n",
       "      <td>1021.0</td>\n",
       "      <td>0.7</td>\n",
       "      <td>4.9</td>\n",
       "    </tr>\n",
       "    <tr>\n",
       "      <th>2014-01-01 03:00:00</th>\n",
       "      <td>67.27316</td>\n",
       "      <td>114.491295</td>\n",
       "      <td>13.1</td>\n",
       "      <td>10.2</td>\n",
       "      <td>86.2</td>\n",
       "      <td>8.6</td>\n",
       "      <td>4.6</td>\n",
       "      <td>1020.8</td>\n",
       "      <td>0.7</td>\n",
       "      <td>5.0</td>\n",
       "    </tr>\n",
       "    <tr>\n",
       "      <th>2014-01-01 04:00:00</th>\n",
       "      <td>65.53597</td>\n",
       "      <td>115.337955</td>\n",
       "      <td>13.2</td>\n",
       "      <td>10.0</td>\n",
       "      <td>85.9</td>\n",
       "      <td>9.3</td>\n",
       "      <td>4.9</td>\n",
       "      <td>1020.0</td>\n",
       "      <td>0.8</td>\n",
       "      <td>5.0</td>\n",
       "    </tr>\n",
       "    <tr>\n",
       "      <th>2014-01-01 05:00:00</th>\n",
       "      <td>68.03676</td>\n",
       "      <td>114.201319</td>\n",
       "      <td>13.2</td>\n",
       "      <td>10.2</td>\n",
       "      <td>85.2</td>\n",
       "      <td>8.6</td>\n",
       "      <td>4.6</td>\n",
       "      <td>1020.0</td>\n",
       "      <td>0.6</td>\n",
       "      <td>5.0</td>\n",
       "    </tr>\n",
       "  </tbody>\n",
       "</table>\n",
       "</div>"
      ],
      "text/plain": [
       "                        civil  south_tower  wt_temp  wt_tmpap  wt_hr  \\\n",
       "timestamp                                                              \n",
       "2014-01-01 01:00:00  65.99413   114.897996     12.6      10.5   88.3   \n",
       "2014-01-01 02:00:00  66.20412   114.819072     12.9      10.3   87.3   \n",
       "2014-01-01 03:00:00  67.27316   114.491295     13.1      10.2   86.2   \n",
       "2014-01-01 04:00:00  65.53597   115.337955     13.2      10.0   85.9   \n",
       "2014-01-01 05:00:00  68.03676   114.201319     13.2      10.2   85.2   \n",
       "\n",
       "                     wt_max_windgust  wt_mean_windspd  wt_mean_pres  \\\n",
       "timestamp                                                             \n",
       "2014-01-01 01:00:00              7.3              3.4        1021.0   \n",
       "2014-01-01 02:00:00              7.8              4.0        1021.0   \n",
       "2014-01-01 03:00:00              8.6              4.6        1020.8   \n",
       "2014-01-01 04:00:00              9.3              4.9        1020.0   \n",
       "2014-01-01 05:00:00              8.6              4.6        1020.0   \n",
       "\n",
       "                     wt_mean_solarrad  wt_rain_day  \n",
       "timestamp                                           \n",
       "2014-01-01 01:00:00               0.6          4.9  \n",
       "2014-01-01 02:00:00               0.7          4.9  \n",
       "2014-01-01 03:00:00               0.7          5.0  \n",
       "2014-01-01 04:00:00               0.8          5.0  \n",
       "2014-01-01 05:00:00               0.6          5.0  "
      ]
     },
     "execution_count": 10,
     "metadata": {},
     "output_type": "execute_result"
    }
   ],
   "source": [
    "dt.head()"
   ]
  },
  {
   "cell_type": "code",
   "execution_count": 11,
   "metadata": {
    "ExecuteTime": {
     "end_time": "2020-05-10T15:59:28.835847Z",
     "start_time": "2020-05-10T15:59:28.821883Z"
    },
    "scrolled": true
   },
   "outputs": [
    {
     "name": "stdout",
     "output_type": "stream",
     "text": [
      "<class 'pandas.core.frame.DataFrame'>\n",
      "DatetimeIndex: 26280 entries, 2014-01-01 01:00:00 to 2018-12-31 23:00:00\n",
      "Data columns (total 10 columns):\n",
      "civil               26276 non-null float64\n",
      "south_tower         26276 non-null float64\n",
      "wt_temp             23923 non-null float64\n",
      "wt_tmpap            23923 non-null float64\n",
      "wt_hr               23923 non-null float64\n",
      "wt_max_windgust     23923 non-null float64\n",
      "wt_mean_windspd     23923 non-null float64\n",
      "wt_mean_pres        23923 non-null float64\n",
      "wt_mean_solarrad    23923 non-null float64\n",
      "wt_rain_day         23923 non-null float64\n",
      "dtypes: float64(10)\n",
      "memory usage: 2.2 MB\n"
     ]
    }
   ],
   "source": [
    "# Check some information about the data set\n",
    "dt.info()"
   ]
  },
  {
   "cell_type": "markdown",
   "metadata": {},
   "source": [
    "We can see that the dataframe - dt - has already some missing values:\n",
    "- e.g. WCD has 23923 non-null values in 26280 rows.\n",
    "\n",
    "But, lets first clean the **Outliers** and then deal with the **Missing values**."
   ]
  },
  {
   "cell_type": "markdown",
   "metadata": {},
   "source": [
    "### Creation of temporal Features\n",
    "\n",
    "Not only to ease the analysis of outliers and data imputation but also because it is important for certain models, in time-series data, to provide input about the day, hour and month that a certain consumption took place."
   ]
  },
  {
   "cell_type": "code",
   "execution_count": 12,
   "metadata": {
    "ExecuteTime": {
     "end_time": "2020-05-10T15:59:29.365731Z",
     "start_time": "2020-05-10T15:59:29.341662Z"
    }
   },
   "outputs": [],
   "source": [
    "def create_time_features(dt):\n",
    "    # Create a column Date from index\n",
    "    dt['date'] = dt.index\n",
    "    pre = 't_'\n",
    "    # Add 4 columns with year, month, day and hour\n",
    "    dt[pre+'hour'] = dt['date'].dt.hour\n",
    "    dt[pre+'month'] = dt['date'].dt.month\n",
    "    dt[pre+'dayofweek'] = dt['date'].dt.weekday\n",
    "    dt[pre+'year'] = dt['date'].dt.year\n",
    "    \n",
    "    dt = dt.drop(['date'], axis = 1)\n",
    "    return dt\n",
    "\n",
    "dt = create_time_features(dt)"
   ]
  },
  {
   "cell_type": "markdown",
   "metadata": {},
   "source": [
    "## 1.1 Outliers analysis"
   ]
  },
  {
   "cell_type": "markdown",
   "metadata": {},
   "source": [
    "An outlier is an abnormal data value that considerably diverges from the rest of the data points of the same feature. Their inclusion may affect negatively the predictive model accuracy. Although, in certain situations, an outlier may contain important information about a specific event or system behaviour. As a result of this ambiguity, a conservative **Z score above 3** was used. \n",
    "This analysis was applied only to **ECD** and can be summarized in the following steps:\n",
    "\n",
    "1. Replace any zero by NaN, since it is not normal that an institutional building has no consumption for one hour;\n",
    "2. Apply Z score, with a thershold of 3.5;\n",
    "3. Visualization and decision of each selected outlier."
   ]
  },
  {
   "cell_type": "markdown",
   "metadata": {},
   "source": [
    "**Step 1** - Replace - zero energy consumptions by NaN"
   ]
  },
  {
   "cell_type": "code",
   "execution_count": 13,
   "metadata": {
    "ExecuteTime": {
     "end_time": "2020-05-10T15:59:30.439638Z",
     "start_time": "2020-05-10T15:59:30.397719Z"
    },
    "cell_style": "center",
    "code_folding": []
   },
   "outputs": [
    {
     "name": "stdout",
     "output_type": "stream",
     "text": [
      "Number of zeros per building\n",
      "\n",
      "civil          153\n",
      "south_tower     88\n",
      "dtype: int64\n",
      "\n",
      "After the replacement\n",
      "\n",
      "civil          0\n",
      "south_tower    0\n",
      "dtype: int64\n"
     ]
    }
   ],
   "source": [
    "# Check the Zeros\n",
    "print(\"Number of zeros per building\\n\")\n",
    "print(dt.isin([0]).sum()[:2])\n",
    "\n",
    "# Replace by NaN function\n",
    "def zeros_to_nan(dt):\n",
    "    building_cols = ['civil','south_tower']\n",
    "    dt[building_cols] = dt[building_cols].replace(0, np.nan)\n",
    "zeros_to_nan(dt)\n",
    "\n",
    "print(\"\\nAfter the replacement\\n\")\n",
    "print(dt.isin([0]).sum()[:2])"
   ]
  },
  {
   "cell_type": "markdown",
   "metadata": {},
   "source": [
    "**Step 2 and Step 3** - Statistical Metric / Visualization / Replace by NaN if selected"
   ]
  },
  {
   "cell_type": "code",
   "execution_count": 14,
   "metadata": {
    "ExecuteTime": {
     "end_time": "2020-05-10T15:59:31.641086Z",
     "start_time": "2020-05-10T15:59:31.223216Z"
    },
    "code_folding": []
   },
   "outputs": [
    {
     "data": {
      "image/png": "[encoded data removed]",
      "text/plain": [
       "<Figure size 1440x360 with 2 Axes>"
      ]
     },
     "metadata": {
      "needs_background": "light"
     },
     "output_type": "display_data"
    }
   ],
   "source": [
    "# Check histogram\n",
    "def show_hist(data=dt):\n",
    "    n_bins = 50\n",
    "    fig, ((ax0, ax1)) = plt.subplots(nrows=1, ncols=2, figsize=(20, 5))\n",
    "\n",
    "    ax0.hist(data['civil'].values, n_bins, density=True, histtype='bar')\n",
    "    ax0.set_title('Civil')\n",
    "\n",
    "    ax1.hist(data['south_tower'].values, n_bins, density=True, histtype='bar')\n",
    "    ax1.set_title('South Tower')\n",
    "\n",
    "    fig.tight_layout()\n",
    "    plt.show()\n",
    "show_hist()"
   ]
  },
  {
   "cell_type": "markdown",
   "metadata": {
    "cell_style": "center"
   },
   "source": [
    "As it is possible to see, our consumption data does not have a normal distribution, because of that it may be misleading use z score to identify the outliers. \n",
    "To address that, after the application of the z score threshold, each outlier was visualized and removed if needed.\n",
    "\n",
    "**NOTE:** The z-score is frequently used because according to the Central Limit Theorem, when the data are sufficiently numerous, tend to be normally distributed regardless of the underlying distribution."
   ]
  },
  {
   "cell_type": "code",
   "execution_count": 15,
   "metadata": {
    "ExecuteTime": {
     "end_time": "2020-05-10T15:59:32.384549Z",
     "start_time": "2020-05-10T15:59:32.365599Z"
    },
    "code_folding": [
     1,
     19
    ]
   },
   "outputs": [],
   "source": [
    "# Outliers function\n",
    "def outliers(feature, dt, threshold):\n",
    "    '''\n",
    "    INPUT: Feature, DataFrame, threshold\n",
    "    \n",
    "    Calculates the absolute z score\n",
    "    Selects the values based on the threshold defined\n",
    "    \n",
    "    OUTPUT: DataFrame\n",
    "    '''\n",
    "    # Creation of a dataframe of outliers\n",
    "    dt_outliers = dt[[feature, 't_hour']]\n",
    "    # Calculation of the Z_score of each value\n",
    "    dt_outliers['z_score_'+feature] = np.abs(((dt_outliers[feature] - dt_outliers[feature].mean())/dt_outliers[feature].std()))\n",
    "    \n",
    "    # Return the dataframe that has an absolute value higher than the threshold\n",
    "    return dt_outliers.loc[dt_outliers['z_score_'+feature]>threshold]\n",
    "\n",
    "# Show Outliers\n",
    "def show_day(day, hour, z_score, count, n_outliers,feature):\n",
    "    '''\n",
    "    Visualization of each day\n",
    "    Identification of the outlier\n",
    "    '''\n",
    "    \n",
    "    data = dt[feature][day]\n",
    "\n",
    "    x = [\"%.2d\" % i for i in range(24)]\n",
    "    y = data.values\n",
    "    fig, ax = plt.subplots(1, 1, figsize=(20,10))\n",
    "    plt.plot(x, y, label = day)\n",
    "    plt.xlim('00', '23')\n",
    "    \n",
    "    # Suppose outlier\n",
    "    plt.axvline(x=hour, color='r', linestyle='--', label='Outlier'+ \" | z_score = \"+z_score)\n",
    "    plt.rc('xtick',labelsize=15)\n",
    "    plt.rc('ytick',labelsize=20)\n",
    "    plt.ylabel('Consumption (kWh)', fontsize=20)\n",
    "    plt.xlabel('Hour', fontsize=20)\n",
    "    plt.title(f'{count} of {n_outliers} Identified Outliers Checked', fontsize=30)\n",
    "    plt.legend(loc=2, fontsize=20)\n",
    "    plt.show()\n",
    "\n",
    "# Function to call\n",
    "def visual_decision_outliers(dt_outlier):\n",
    "    '''\n",
    "    INPUT: Outliers DataFrame (OUTPUT FROM FUNCTION OUTLIERS)\n",
    "    \n",
    "    Basically it grabs the dataframe and gives the opportunity \n",
    "    for the user to decide, which of the pre-selected outliers\n",
    "    to remove from the original dataframe.\n",
    "    \n",
    "    OUTPUT: Str type, information of what happened\n",
    "    \n",
    "    '''\n",
    "    # We need to restrict the number of visualizations for each day\n",
    "    # with set or something\n",
    "    from IPython.display import clear_output\n",
    "    count = 1\n",
    "    n_outliers = len(dt_outlier)\n",
    "    lst_dates_off = []\n",
    "    for date in dt_outlier.index:\n",
    "        \n",
    "        day = str(date).split(\" \")[0]\n",
    "        hour = str(date).split(\" \")[1][:2]\n",
    "        z_score = str(round(dt_outlier.loc[date, 'z_score_'+dt_outlier.columns[0]], 2))\n",
    "\n",
    "        clear_output(wait=True)\n",
    "        show_day(day, hour, z_score, count, n_outliers, dt_outlier.columns[0])\n",
    "        \n",
    "        count += 1\n",
    "        # Input of the user\n",
    "        is_hour_off = int(input(\"\\nOutlier? (1=yes/0=no): \"))       \n",
    "        if is_hour_off:\n",
    "            lst_dates_off.append(str(day)+\" \"+str(hour))\n",
    "        else:\n",
    "            continue\n",
    "            \n",
    "    #clear_output(wait=True)\n",
    "    print('Dates selected to remove: ', lst_dates_off)\n",
    "    if lst_dates_off == []:\n",
    "        print('There is no outliers to remove!')\n",
    "    else:\n",
    "        dcs = int(input(\"\\nAre you sure this is the outliers that you want to substitute by NaN (yes=1/no=0): \"))\n",
    "        if dcs == 1:\n",
    "            for l in lst_dates_off:\n",
    "                dt.loc[l, dt_outlier.columns[0]] = np.nan\n",
    "            print('The outliers were removed')\n",
    "        else:\n",
    "            print('The outliers were not removed')"
   ]
  },
  {
   "cell_type": "markdown",
   "metadata": {},
   "source": [
    "### 1.1.1 Civil"
   ]
  },
  {
   "cell_type": "code",
   "execution_count": 16,
   "metadata": {
    "ExecuteTime": {
     "end_time": "2020-05-10T15:59:33.418531Z",
     "start_time": "2020-05-10T15:59:33.365699Z"
    },
    "cell_style": "center"
   },
   "outputs": [
    {
     "name": "stdout",
     "output_type": "stream",
     "text": [
      "Dates selected to remove:  []\n",
      "There is no outliers to remove!\n"
     ]
    }
   ],
   "source": [
    "visual_decision_outliers(outliers('civil', dt, 3.5))"
   ]
  },
  {
   "cell_type": "markdown",
   "metadata": {},
   "source": [
    "### 1.1.2 South Tower"
   ]
  },
  {
   "cell_type": "code",
   "execution_count": 17,
   "metadata": {
    "ExecuteTime": {
     "end_time": "2020-05-10T16:01:38.108787Z",
     "start_time": "2020-05-10T15:59:35.061676Z"
    },
    "cell_style": "center",
    "scrolled": false
   },
   "outputs": [
    {
     "data": {
      "image/png": "[encoded data removed]",
      "text/plain": [
       "<Figure size 1440x720 with 1 Axes>"
      ]
     },
     "metadata": {
      "needs_background": "light"
     },
     "output_type": "display_data"
    },
    {
     "name": "stdout",
     "output_type": "stream",
     "text": [
      "\n",
      "Outlier? (1=yes/0=no): 1\n",
      "Dates selected to remove:  ['2017-03-22 18', '2018-03-07 13', '2018-09-17 17', '2018-11-20 15']\n",
      "\n",
      "Are you sure this is the outliers that you want to substitute by NaN (yes=1/no=0): 1\n",
      "The outliers were removed\n"
     ]
    }
   ],
   "source": [
    "visual_decision_outliers(outliers('south_tower', dt, 3.5))"
   ]
  },
  {
   "cell_type": "markdown",
   "metadata": {},
   "source": [
    "The outliers previously identified were removed if it corresponds to a sudden consumption peak as it can be seen in the last figure from South Tower building, from 2018-11-20 at 15p.m..\n",
    "Fortunately, Civil building hourly consumptions were always below the threshold defined."
   ]
  },
  {
   "cell_type": "markdown",
   "metadata": {},
   "source": [
    "## 1.2 Missing Values"
   ]
  },
  {
   "cell_type": "markdown",
   "metadata": {},
   "source": [
    "As a consequence of the first steps, now the data set has a greater number of missing values than before it is mandatory to quantify and check their distribution per feature."
   ]
  },
  {
   "cell_type": "code",
   "execution_count": 22,
   "metadata": {
    "ExecuteTime": {
     "end_time": "2020-05-10T16:02:00.723195Z",
     "start_time": "2020-05-10T16:02:00.717211Z"
    },
    "code_folding": [
     1,
     4
    ]
   },
   "outputs": [],
   "source": [
    "# Function use to visualize our missing data\n",
    "def percentage_feature(dt):\n",
    "    return dt.isna().mean()*100\n",
    "\n",
    "def quantity_feature(dt):\n",
    "    return dt.isna().sum()\n",
    "\n",
    "def distribution(dt):\n",
    "    return msno.matrix(dt, sparkline=False, figsize=(25, 15))"
   ]
  },
  {
   "cell_type": "code",
   "execution_count": 23,
   "metadata": {
    "ExecuteTime": {
     "end_time": "2020-05-10T16:02:01.338652Z",
     "start_time": "2020-05-10T16:02:01.325715Z"
    },
    "cell_style": "split"
   },
   "outputs": [
    {
     "data": {
      "text/plain": [
       "civil               0.597412\n",
       "south_tower         0.365297\n",
       "wt_temp             8.968798\n",
       "wt_tmpap            8.968798\n",
       "wt_hr               8.968798\n",
       "wt_max_windgust     8.968798\n",
       "wt_mean_windspd     8.968798\n",
       "wt_mean_pres        8.968798\n",
       "wt_mean_solarrad    8.968798\n",
       "wt_rain_day         8.968798\n",
       "t_hour              0.000000\n",
       "t_month             0.000000\n",
       "t_dayofweek         0.000000\n",
       "t_year              0.000000\n",
       "dtype: float64"
      ]
     },
     "execution_count": 23,
     "metadata": {},
     "output_type": "execute_result"
    }
   ],
   "source": [
    "percentage_feature(dt)"
   ]
  },
  {
   "cell_type": "code",
   "execution_count": 24,
   "metadata": {
    "ExecuteTime": {
     "end_time": "2020-05-10T16:02:01.586218Z",
     "start_time": "2020-05-10T16:02:01.574252Z"
    },
    "cell_style": "split",
    "scrolled": true
   },
   "outputs": [
    {
     "data": {
      "text/plain": [
       "civil                157\n",
       "south_tower           96\n",
       "wt_temp             2357\n",
       "wt_tmpap            2357\n",
       "wt_hr               2357\n",
       "wt_max_windgust     2357\n",
       "wt_mean_windspd     2357\n",
       "wt_mean_pres        2357\n",
       "wt_mean_solarrad    2357\n",
       "wt_rain_day         2357\n",
       "t_hour                 0\n",
       "t_month                0\n",
       "t_dayofweek            0\n",
       "t_year                 0\n",
       "dtype: int64"
      ]
     },
     "execution_count": 24,
     "metadata": {},
     "output_type": "execute_result"
    }
   ],
   "source": [
    "quantity_feature(dt)"
   ]
  },
  {
   "cell_type": "code",
   "execution_count": 26,
   "metadata": {
    "ExecuteTime": {
     "end_time": "2020-05-10T16:02:06.681292Z",
     "start_time": "2020-05-10T16:02:06.021974Z"
    }
   },
   "outputs": [
    {
     "data": {
      "image/png": "[encoded data removed]",
      "text/plain": [
       "<Figure size 1800x1080 with 1 Axes>"
      ]
     },
     "metadata": {
      "needs_background": "light"
     },
     "output_type": "display_data"
    }
   ],
   "source": [
    "distribution(dt);"
   ]
  },
  {
   "cell_type": "markdown",
   "metadata": {},
   "source": [
    "As it is possible to see, there is some missing data that should be take into account, specially in WCD, which has almost 2 months missing during 2018.\n",
    "\n",
    "\n",
    "Since weather conditions are one major feature in building energy consumption, we will try to address this problem through a **data imputation study**, that may be found in the next notebook. "
   ]
  },
  {
   "cell_type": "markdown",
   "metadata": {},
   "source": [
    "To ease the data imputation study three new columns were created. Each column record can be 0 or 1, being the latter when there is a missing value of the correspondent feature. The features used were each of buildings consumption (civil and south_tower) and weather conditions."
   ]
  },
  {
   "cell_type": "code",
   "execution_count": 27,
   "metadata": {
    "ExecuteTime": {
     "end_time": "2020-05-10T16:02:12.918932Z",
     "start_time": "2020-05-10T16:02:12.909946Z"
    },
    "code_folding": []
   },
   "outputs": [],
   "source": [
    "# Creation of a missing column for weather and building missing values\n",
    "# For each building it will be created a missing column, so the evaluation is not performed in the building imputate values\n",
    "def missing_colgen(dt):\n",
    "    feature_lst = ['civil', 'south_tower', 'wt_temp']\n",
    "    for feature in feature_lst:           \n",
    "        null_idx = dt[feature].isnull()\n",
    "        \n",
    "        if feature == 'wt_temp':\n",
    "            feature = feature[:2]\n",
    "            \n",
    "        dt['miss_'+feature] = np.where(null_idx,1,0)\n",
    "    return dt\n",
    "dt = missing_colgen(dt)"
   ]
  },
  {
   "cell_type": "code",
   "execution_count": 28,
   "metadata": {
    "ExecuteTime": {
     "end_time": "2020-05-10T16:02:21.824738Z",
     "start_time": "2020-05-10T16:02:21.805790Z"
    }
   },
   "outputs": [
    {
     "data": {
      "text/html": [
       "<div>\n",
       "<style scoped>\n",
       "    .dataframe tbody tr th:only-of-type {\n",
       "        vertical-align: middle;\n",
       "    }\n",
       "\n",
       "    .dataframe tbody tr th {\n",
       "        vertical-align: top;\n",
       "    }\n",
       "\n",
       "    .dataframe thead th {\n",
       "        text-align: right;\n",
       "    }\n",
       "</style>\n",
       "<table border=\"1\" class=\"dataframe\">\n",
       "  <thead>\n",
       "    <tr style=\"text-align: right;\">\n",
       "      <th></th>\n",
       "      <th>civil</th>\n",
       "      <th>south_tower</th>\n",
       "      <th>wt_temp</th>\n",
       "      <th>wt_tmpap</th>\n",
       "      <th>wt_hr</th>\n",
       "      <th>wt_max_windgust</th>\n",
       "      <th>wt_mean_windspd</th>\n",
       "      <th>wt_mean_pres</th>\n",
       "      <th>wt_mean_solarrad</th>\n",
       "      <th>wt_rain_day</th>\n",
       "      <th>t_hour</th>\n",
       "      <th>t_month</th>\n",
       "      <th>t_dayofweek</th>\n",
       "      <th>t_year</th>\n",
       "      <th>miss_civil</th>\n",
       "      <th>miss_south_tower</th>\n",
       "      <th>miss_wt</th>\n",
       "    </tr>\n",
       "    <tr>\n",
       "      <th>timestamp</th>\n",
       "      <th></th>\n",
       "      <th></th>\n",
       "      <th></th>\n",
       "      <th></th>\n",
       "      <th></th>\n",
       "      <th></th>\n",
       "      <th></th>\n",
       "      <th></th>\n",
       "      <th></th>\n",
       "      <th></th>\n",
       "      <th></th>\n",
       "      <th></th>\n",
       "      <th></th>\n",
       "      <th></th>\n",
       "      <th></th>\n",
       "      <th></th>\n",
       "      <th></th>\n",
       "    </tr>\n",
       "  </thead>\n",
       "  <tbody>\n",
       "    <tr>\n",
       "      <th>2014-01-01 01:00:00</th>\n",
       "      <td>65.99413</td>\n",
       "      <td>114.897996</td>\n",
       "      <td>12.6</td>\n",
       "      <td>10.5</td>\n",
       "      <td>88.3</td>\n",
       "      <td>7.3</td>\n",
       "      <td>3.4</td>\n",
       "      <td>1021.0</td>\n",
       "      <td>0.6</td>\n",
       "      <td>4.9</td>\n",
       "      <td>1</td>\n",
       "      <td>1</td>\n",
       "      <td>2</td>\n",
       "      <td>2014</td>\n",
       "      <td>0</td>\n",
       "      <td>0</td>\n",
       "      <td>0</td>\n",
       "    </tr>\n",
       "    <tr>\n",
       "      <th>2014-01-01 02:00:00</th>\n",
       "      <td>66.20412</td>\n",
       "      <td>114.819072</td>\n",
       "      <td>12.9</td>\n",
       "      <td>10.3</td>\n",
       "      <td>87.3</td>\n",
       "      <td>7.8</td>\n",
       "      <td>4.0</td>\n",
       "      <td>1021.0</td>\n",
       "      <td>0.7</td>\n",
       "      <td>4.9</td>\n",
       "      <td>2</td>\n",
       "      <td>1</td>\n",
       "      <td>2</td>\n",
       "      <td>2014</td>\n",
       "      <td>0</td>\n",
       "      <td>0</td>\n",
       "      <td>0</td>\n",
       "    </tr>\n",
       "    <tr>\n",
       "      <th>2014-01-01 03:00:00</th>\n",
       "      <td>67.27316</td>\n",
       "      <td>114.491295</td>\n",
       "      <td>13.1</td>\n",
       "      <td>10.2</td>\n",
       "      <td>86.2</td>\n",
       "      <td>8.6</td>\n",
       "      <td>4.6</td>\n",
       "      <td>1020.8</td>\n",
       "      <td>0.7</td>\n",
       "      <td>5.0</td>\n",
       "      <td>3</td>\n",
       "      <td>1</td>\n",
       "      <td>2</td>\n",
       "      <td>2014</td>\n",
       "      <td>0</td>\n",
       "      <td>0</td>\n",
       "      <td>0</td>\n",
       "    </tr>\n",
       "    <tr>\n",
       "      <th>2014-01-01 04:00:00</th>\n",
       "      <td>65.53597</td>\n",
       "      <td>115.337955</td>\n",
       "      <td>13.2</td>\n",
       "      <td>10.0</td>\n",
       "      <td>85.9</td>\n",
       "      <td>9.3</td>\n",
       "      <td>4.9</td>\n",
       "      <td>1020.0</td>\n",
       "      <td>0.8</td>\n",
       "      <td>5.0</td>\n",
       "      <td>4</td>\n",
       "      <td>1</td>\n",
       "      <td>2</td>\n",
       "      <td>2014</td>\n",
       "      <td>0</td>\n",
       "      <td>0</td>\n",
       "      <td>0</td>\n",
       "    </tr>\n",
       "    <tr>\n",
       "      <th>2014-01-01 05:00:00</th>\n",
       "      <td>68.03676</td>\n",
       "      <td>114.201319</td>\n",
       "      <td>13.2</td>\n",
       "      <td>10.2</td>\n",
       "      <td>85.2</td>\n",
       "      <td>8.6</td>\n",
       "      <td>4.6</td>\n",
       "      <td>1020.0</td>\n",
       "      <td>0.6</td>\n",
       "      <td>5.0</td>\n",
       "      <td>5</td>\n",
       "      <td>1</td>\n",
       "      <td>2</td>\n",
       "      <td>2014</td>\n",
       "      <td>0</td>\n",
       "      <td>0</td>\n",
       "      <td>0</td>\n",
       "    </tr>\n",
       "  </tbody>\n",
       "</table>\n",
       "</div>"
      ],
      "text/plain": [
       "                        civil  south_tower  wt_temp  wt_tmpap  wt_hr  \\\n",
       "timestamp                                                              \n",
       "2014-01-01 01:00:00  65.99413   114.897996     12.6      10.5   88.3   \n",
       "2014-01-01 02:00:00  66.20412   114.819072     12.9      10.3   87.3   \n",
       "2014-01-01 03:00:00  67.27316   114.491295     13.1      10.2   86.2   \n",
       "2014-01-01 04:00:00  65.53597   115.337955     13.2      10.0   85.9   \n",
       "2014-01-01 05:00:00  68.03676   114.201319     13.2      10.2   85.2   \n",
       "\n",
       "                     wt_max_windgust  wt_mean_windspd  wt_mean_pres  \\\n",
       "timestamp                                                             \n",
       "2014-01-01 01:00:00              7.3              3.4        1021.0   \n",
       "2014-01-01 02:00:00              7.8              4.0        1021.0   \n",
       "2014-01-01 03:00:00              8.6              4.6        1020.8   \n",
       "2014-01-01 04:00:00              9.3              4.9        1020.0   \n",
       "2014-01-01 05:00:00              8.6              4.6        1020.0   \n",
       "\n",
       "                     wt_mean_solarrad  wt_rain_day  t_hour  t_month  \\\n",
       "timestamp                                                             \n",
       "2014-01-01 01:00:00               0.6          4.9       1        1   \n",
       "2014-01-01 02:00:00               0.7          4.9       2        1   \n",
       "2014-01-01 03:00:00               0.7          5.0       3        1   \n",
       "2014-01-01 04:00:00               0.8          5.0       4        1   \n",
       "2014-01-01 05:00:00               0.6          5.0       5        1   \n",
       "\n",
       "                     t_dayofweek  t_year  miss_civil  miss_south_tower  \\\n",
       "timestamp                                                                \n",
       "2014-01-01 01:00:00            2    2014           0                 0   \n",
       "2014-01-01 02:00:00            2    2014           0                 0   \n",
       "2014-01-01 03:00:00            2    2014           0                 0   \n",
       "2014-01-01 04:00:00            2    2014           0                 0   \n",
       "2014-01-01 05:00:00            2    2014           0                 0   \n",
       "\n",
       "                     miss_wt  \n",
       "timestamp                     \n",
       "2014-01-01 01:00:00        0  \n",
       "2014-01-01 02:00:00        0  \n",
       "2014-01-01 03:00:00        0  \n",
       "2014-01-01 04:00:00        0  \n",
       "2014-01-01 05:00:00        0  "
      ]
     },
     "execution_count": 28,
     "metadata": {},
     "output_type": "execute_result"
    }
   ],
   "source": [
    "dt.head()"
   ]
  },
  {
   "cell_type": "code",
   "execution_count": 29,
   "metadata": {
    "ExecuteTime": {
     "end_time": "2020-05-10T16:02:29.649603Z",
     "start_time": "2020-05-10T16:02:29.141529Z"
    }
   },
   "outputs": [],
   "source": [
    "dt.to_csv('Preprocessed_Data/_01_dt_00.csv')"
   ]
  }
 ],
 "metadata": {
  "celltoolbar": "Edit Metadata",
  "hide_input": false,
  "kernelspec": {
   "display_name": "Python 3",
   "language": "python",
   "name": "python3"
  },
  "language_info": {
   "codemirror_mode": {
    "name": "ipython",
    "version": 3
   },
   "file_extension": ".py",
   "mimetype": "text/x-python",
   "name": "python",
   "nbconvert_exporter": "python",
   "pygments_lexer": "ipython3",
   "version": "3.6.9"
  },
  "toc": {
   "base_numbering": 1,
   "nav_menu": {
    "height": "210px",
    "width": "286px"
   },
   "number_sections": false,
   "sideBar": true,
   "skip_h1_title": false,
   "title_cell": "Table of Contents",
   "title_sidebar": "Contents",
   "toc_cell": false,
   "toc_position": {},
   "toc_section_display": true,
   "toc_window_display": true
  },
  "varInspector": {
   "cols": {
    "lenName": 16,
    "lenType": 16,
    "lenVar": 40
   },
   "kernels_config": {
    "python": {
     "delete_cmd_postfix": "",
     "delete_cmd_prefix": "del ",
     "library": "var_list.py",
     "varRefreshCmd": "print(var_dic_list())"
    },
    "r": {
     "delete_cmd_postfix": ") ",
     "delete_cmd_prefix": "rm(",
     "library": "var_list.r",
     "varRefreshCmd": "cat(var_dic_list()) "
    }
   },
   "types_to_exclude": [
    "module",
    "function",
    "builtin_function_or_method",
    "instance",
    "_Feature"
   ],
   "window_display": false
  }
 },
 "nbformat": 4,
 "nbformat_minor": 2
}
