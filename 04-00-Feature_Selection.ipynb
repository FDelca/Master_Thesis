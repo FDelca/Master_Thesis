{
 "cells": [
  {
   "cell_type": "code",
   "execution_count": 19,
   "metadata": {},
   "outputs": [],
   "source": [
    "import pandas as pd\n",
    "import numpy as np\n",
    "import matplotlib.pyplot as plt\n",
    "import warnings\n",
    "warnings.filterwarnings(\"ignore\")\n",
    "\n",
    "import seaborn as sns"
   ]
  },
  {
   "cell_type": "markdown",
   "metadata": {},
   "source": [
    "## Feature Importance"
   ]
  },
  {
   "cell_type": "markdown",
   "metadata": {},
   "source": [
    "The objective of this notebook is to select the most relevant features. This procedure it's known to improve modeling in terms of overfitting, accuracy, and training time. Enabling algorithms to stop using noisy or misleading data to make decisions, hence reducing their complexity and computational time.\n",
    "\n",
    "There are three general classes of feature selection:\n",
    "- **Filter**\n",
    "    - Filter methods apply statistical measures to assign a score to each feature, which are usually univariate and consider each feature independently;\n",
    "- **Wrapper**\n",
    "    - Consider the selection of a set of features as a search problem, where different combinations of features are prepared, evaluated and compared with other combinations. To evaluate those combinations a machine learning model is used to score each group of features based on an error metric prior established;\n",
    "- **Embedded Methods**\n",
    "    - Learn which features best contribute to the accuracy of the model while the model is being created, which is often done by regularization methods."
   ]
  },
  {
   "cell_type": "markdown",
   "metadata": {},
   "source": [
    "In this project it was first used a filter method known as **Pearson Correlation**, to select the most relevant WCD features, and afterwards, with the remaining features, a wrapper method, named as **Recursive Feature Elimination (RFE)**, was employed using XGBoost Model and Random Forest, [Fig. 1](#feature_selection_img)."
   ]
  },
  {
   "cell_type": "markdown",
   "metadata": {},
   "source": [
    "<a id='feature_selection_img'></a>"
   ]
  },
  {
   "cell_type": "markdown",
   "metadata": {},
   "source": [
    "<img src=\"https://imgur.com/hmA31x5.png\" width=\"400\" height=\"550\" align=\"center\"/>\n",
    "<center> <b>Fig.1</b> - Procedures diagram of feature selection <center>"
   ]
  },
  {
   "cell_type": "markdown",
   "metadata": {},
   "source": [
    "**Call DataFrames**"
   ]
  },
  {
   "cell_type": "code",
   "execution_count": 5,
   "metadata": {},
   "outputs": [],
   "source": [
    "# Civil building\n",
    "dt_civil_hour = pd.read_csv('Preprocessed_Data/_03_dt_01_civil_hour.csv', index_col=[0], parse_dates=[0], header=0)\n",
    "dt_civil_day = pd.read_csv('Preprocessed_Data/_03_dt_01_civil_day.csv', index_col=[0], parse_dates=[0], header=0)\n",
    "dt_civil_week = pd.read_csv('Preprocessed_Data/_03_dt_01_civil_week.csv', index_col=[0], parse_dates=[0], header=0)\n",
    "\n",
    "# South tower\n",
    "dt_stw_hour = pd.read_csv('Preprocessed_Data/_03_dt_01_south_tower_hour.csv', index_col=[0], parse_dates=[0], header=0)\n",
    "dt_stw_day = pd.read_csv('Preprocessed_Data/_03_dt_01_south_tower_day.csv', index_col=[0], parse_dates=[0], header=0)\n",
    "dt_stw_week = pd.read_csv('Preprocessed_Data/_03_dt_01_south_tower_week.csv', index_col=[0], parse_dates=[0], header=0)"
   ]
  },
  {
   "cell_type": "markdown",
   "metadata": {},
   "source": [
    "### 1.1 Pearson's Correlation"
   ]
  },
  {
   "cell_type": "markdown",
   "metadata": {},
   "source": [
    "The pearson correlation coefficient can be used to summarize the strength of the linear relationship between two data samples. It is calculated as the **covariance** of two variables divided by the product of the standard deviation of each data sample. \n",
    "\n",
    "Given two samples X and Y the Pearson's correlation is: `covariance(X, Y) / stdv(X) * stdv(Y)`"
   ]
  },
  {
   "cell_type": "code",
   "execution_count": 56,
   "metadata": {},
   "outputs": [],
   "source": [
    "def pearson_corr(df):\n",
    "    \n",
    "    cols = df.columns\n",
    "    \n",
    "    if 'civil' in cols:\n",
    "        building = 'civil'\n",
    "        name = 'civil'\n",
    "    else:\n",
    "        building = 'south_tower'\n",
    "        name = 'stw'\n",
    "        \n",
    "    return abs(df.corr()[building]).drop([building, 'miss_wt', 'miss_'+building]).to_frame(name=name+'_corr')"
   ]
  },
  {
   "cell_type": "code",
   "execution_count": 57,
   "metadata": {},
   "outputs": [],
   "source": [
    "a = pearson_corr(dt_civil_hour)"
   ]
  },
  {
   "cell_type": "code",
   "execution_count": 58,
   "metadata": {},
   "outputs": [
    {
     "data": {
      "text/html": [
       "<div>\n",
       "<style scoped>\n",
       "    .dataframe tbody tr th:only-of-type {\n",
       "        vertical-align: middle;\n",
       "    }\n",
       "\n",
       "    .dataframe tbody tr th {\n",
       "        vertical-align: top;\n",
       "    }\n",
       "\n",
       "    .dataframe thead th {\n",
       "        text-align: right;\n",
       "    }\n",
       "</style>\n",
       "<table border=\"1\" class=\"dataframe\">\n",
       "  <thead>\n",
       "    <tr style=\"text-align: right;\">\n",
       "      <th></th>\n",
       "      <th>civil_corr</th>\n",
       "    </tr>\n",
       "  </thead>\n",
       "  <tbody>\n",
       "    <tr>\n",
       "      <th>wt_temp</th>\n",
       "      <td>0.174258</td>\n",
       "    </tr>\n",
       "    <tr>\n",
       "      <th>wt_tmpap</th>\n",
       "      <td>0.110934</td>\n",
       "    </tr>\n",
       "    <tr>\n",
       "      <th>wt_hr</th>\n",
       "      <td>0.225638</td>\n",
       "    </tr>\n",
       "    <tr>\n",
       "      <th>wt_max_windgust</th>\n",
       "      <td>0.110871</td>\n",
       "    </tr>\n",
       "    <tr>\n",
       "      <th>wt_mean_windspd</th>\n",
       "      <td>0.094486</td>\n",
       "    </tr>\n",
       "    <tr>\n",
       "      <th>wt_mean_pres</th>\n",
       "      <td>0.041384</td>\n",
       "    </tr>\n",
       "    <tr>\n",
       "      <th>wt_mean_solarrad</th>\n",
       "      <td>0.454649</td>\n",
       "    </tr>\n",
       "    <tr>\n",
       "      <th>wt_rain_day</th>\n",
       "      <td>0.096881</td>\n",
       "    </tr>\n",
       "    <tr>\n",
       "      <th>t_hour</th>\n",
       "      <td>0.232984</td>\n",
       "    </tr>\n",
       "    <tr>\n",
       "      <th>t_month</th>\n",
       "      <td>0.060504</td>\n",
       "    </tr>\n",
       "    <tr>\n",
       "      <th>t_dayofweek</th>\n",
       "      <td>0.315006</td>\n",
       "    </tr>\n",
       "    <tr>\n",
       "      <th>t_year</th>\n",
       "      <td>0.089918</td>\n",
       "    </tr>\n",
       "    <tr>\n",
       "      <th>s_workday</th>\n",
       "      <td>0.435302</td>\n",
       "    </tr>\n",
       "    <tr>\n",
       "      <th>s_epochs</th>\n",
       "      <td>0.136048</td>\n",
       "    </tr>\n",
       "    <tr>\n",
       "      <th>cl_civil_0</th>\n",
       "      <td>0.657993</td>\n",
       "    </tr>\n",
       "    <tr>\n",
       "      <th>cl_civil_1</th>\n",
       "      <td>0.631321</td>\n",
       "    </tr>\n",
       "    <tr>\n",
       "      <th>cl_civil_2</th>\n",
       "      <td>0.654936</td>\n",
       "    </tr>\n",
       "    <tr>\n",
       "      <th>lag_civil_1hour</th>\n",
       "      <td>0.960689</td>\n",
       "    </tr>\n",
       "    <tr>\n",
       "      <th>lag_civil_1hour_rollmin</th>\n",
       "      <td>0.847260</td>\n",
       "    </tr>\n",
       "    <tr>\n",
       "      <th>lag_civil_1hour_rollmax</th>\n",
       "      <td>0.882727</td>\n",
       "    </tr>\n",
       "    <tr>\n",
       "      <th>lag_civil_1hour_rollmean</th>\n",
       "      <td>0.879870</td>\n",
       "    </tr>\n",
       "    <tr>\n",
       "      <th>lag_civil_1day</th>\n",
       "      <td>0.639851</td>\n",
       "    </tr>\n",
       "    <tr>\n",
       "      <th>lag_civil_1day_rollmin</th>\n",
       "      <td>0.602344</td>\n",
       "    </tr>\n",
       "    <tr>\n",
       "      <th>lag_civil_1day_rollmax</th>\n",
       "      <td>0.594095</td>\n",
       "    </tr>\n",
       "    <tr>\n",
       "      <th>lag_civil_1day_rollmean</th>\n",
       "      <td>0.610086</td>\n",
       "    </tr>\n",
       "    <tr>\n",
       "      <th>lag_civil_1week</th>\n",
       "      <td>0.693180</td>\n",
       "    </tr>\n",
       "    <tr>\n",
       "      <th>lag_civil_1week_rollmin</th>\n",
       "      <td>0.648850</td>\n",
       "    </tr>\n",
       "    <tr>\n",
       "      <th>lag_civil_1week_rollmax</th>\n",
       "      <td>0.655662</td>\n",
       "    </tr>\n",
       "    <tr>\n",
       "      <th>lag_civil_1week_rollmean</th>\n",
       "      <td>0.665055</td>\n",
       "    </tr>\n",
       "  </tbody>\n",
       "</table>\n",
       "</div>"
      ],
      "text/plain": [
       "                          civil_corr\n",
       "wt_temp                     0.174258\n",
       "wt_tmpap                    0.110934\n",
       "wt_hr                       0.225638\n",
       "wt_max_windgust             0.110871\n",
       "wt_mean_windspd             0.094486\n",
       "wt_mean_pres                0.041384\n",
       "wt_mean_solarrad            0.454649\n",
       "wt_rain_day                 0.096881\n",
       "t_hour                      0.232984\n",
       "t_month                     0.060504\n",
       "t_dayofweek                 0.315006\n",
       "t_year                      0.089918\n",
       "s_workday                   0.435302\n",
       "s_epochs                    0.136048\n",
       "cl_civil_0                  0.657993\n",
       "cl_civil_1                  0.631321\n",
       "cl_civil_2                  0.654936\n",
       "lag_civil_1hour             0.960689\n",
       "lag_civil_1hour_rollmin     0.847260\n",
       "lag_civil_1hour_rollmax     0.882727\n",
       "lag_civil_1hour_rollmean    0.879870\n",
       "lag_civil_1day              0.639851\n",
       "lag_civil_1day_rollmin      0.602344\n",
       "lag_civil_1day_rollmax      0.594095\n",
       "lag_civil_1day_rollmean     0.610086\n",
       "lag_civil_1week             0.693180\n",
       "lag_civil_1week_rollmin     0.648850\n",
       "lag_civil_1week_rollmax     0.655662\n",
       "lag_civil_1week_rollmean    0.665055"
      ]
     },
     "execution_count": 58,
     "metadata": {},
     "output_type": "execute_result"
    }
   ],
   "source": [
    "a"
   ]
  },
  {
   "cell_type": "markdown",
   "metadata": {},
   "source": [
    "### 1.2 Shapiro Feature Importance"
   ]
  },
  {
   "cell_type": "markdown",
   "metadata": {},
   "source": [
    "**------------------------------------ Work in Progress ------------------------------------**"
   ]
  }
 ],
 "metadata": {
  "kernelspec": {
   "display_name": "Python 3",
   "language": "python",
   "name": "python3"
  },
  "language_info": {
   "codemirror_mode": {
    "name": "ipython",
    "version": 3
   },
   "file_extension": ".py",
   "mimetype": "text/x-python",
   "name": "python",
   "nbconvert_exporter": "python",
   "pygments_lexer": "ipython3",
   "version": "3.6.9"
  }
 },
 "nbformat": 4,
 "nbformat_minor": 4
}
