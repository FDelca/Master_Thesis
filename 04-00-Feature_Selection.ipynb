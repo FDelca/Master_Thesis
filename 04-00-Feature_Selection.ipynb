{
 "cells": [
  {
   "cell_type": "markdown",
   "metadata": {},
   "source": [
    "## Feature Importance"
   ]
  },
  {
   "cell_type": "markdown",
   "metadata": {},
   "source": [
    "### 1.1 Pearson's Correlation"
   ]
  },
  {
   "cell_type": "markdown",
   "metadata": {},
   "source": [
    "### 1.2 Shapiro Feature Importance"
   ]
  },
  {
   "cell_type": "code",
   "execution_count": null,
   "metadata": {},
   "outputs": [],
   "source": [
    "def print_correlation(building, dt):\n",
    "    with pd.option_context('display.max_rows', None, 'display.max_columns', None):  # more options can be specified also\n",
    "        corr = abs(dt.corr()[building])\n",
    "        corr.iplot(kind='bar')\n",
    "        #corr.plot(figsize=(20,10))\n",
    "        return corr\n",
    "    \n",
    "    \n",
    "def select_by_corr(building, dt, corr_limit, retr=False):\n",
    "    dt = dt.loc[:, abs(dt.corr(method='pearson')[building]) > corr_limit]\n",
    "    print(dt.columns)\n",
    "    if retr == True:\n",
    "        return list(dt.columns)\n",
    "    \n",
    "\n",
    "def dt_creation(dt, building_name, d_type):\n",
    "    df = dt.filter(regex='^'+d_type, axis=1)\n",
    "    df[building_name] = dt[building_name]\n",
    "    return df\n",
    "\n",
    "def select_cols(dt, vars_list):\n",
    "    list_col = []\n",
    "    for var in vars_list:\n",
    "        cols = [col for col in dt.columns if var in col]\n",
    "        list_col.extend(cols)\n",
    "    return list_col \n",
    "    "
   ]
  }
 ],
 "metadata": {
  "kernelspec": {
   "display_name": "Python 3",
   "language": "python",
   "name": "python3"
  },
  "language_info": {
   "codemirror_mode": {
    "name": "ipython",
    "version": 3
   },
   "file_extension": ".py",
   "mimetype": "text/x-python",
   "name": "python",
   "nbconvert_exporter": "python",
   "pygments_lexer": "ipython3",
   "version": "3.6.9"
  }
 },
 "nbformat": 4,
 "nbformat_minor": 4
}
