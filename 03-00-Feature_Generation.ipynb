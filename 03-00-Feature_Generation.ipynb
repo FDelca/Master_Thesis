{
 "cells": [
  {
   "cell_type": "code",
   "execution_count": 1,
   "metadata": {},
   "outputs": [],
   "source": [
    "# main packages\n",
    "import pandas as pd\n",
    "import numpy as np\n",
    "import matplotlib.pyplot as plt\n",
    "import warnings\n",
    "warnings.filterwarnings(\"ignore\")\n",
    "\n",
    "# Extra packages\n",
    "from datetime import date\n",
    "import holidays\n",
    "from sklearn.cluster import KMeans\n",
    "from sklearn.preprocessing import MinMaxScaler\n",
    "from sklearn.metrics import silhouette_score\n",
    "from statsmodels.graphics.tsaplots import plot_acf"
   ]
  },
  {
   "cell_type": "markdown",
   "metadata": {},
   "source": [
    "## Feature Generation\n",
    "\n",
    "The feature generation step is responsible to created new features that somehow offer additional information to the machine learning models towards the enhancement of their output predictions. In the scope of this work, the output is the energy consumption of each building, therefore, each new feature most be generated in attempt to describe its behavior and particular characteristics.\n",
    "\n",
    "In this study, the new features, may be grouped according to what they are based on, therefore, there are **three main categories**:\n",
    "\n",
    "- Time\n",
    "- Calendar\n",
    "- Energy consumption. \n",
    "\n",
    "The first includes every new feature that was time dependent, the second group of features was based on the national and academic calendar, and lastly, the third group generates features that were based on each building own consumption."
   ]
  },
  {
   "cell_type": "markdown",
   "metadata": {},
   "source": [
    "<img src=\"https://imgur.com/g1VJ0Dd.png\" width=\"800\" height=\"500\" align=\"center\"/>\n",
    "<center> Fig.1 - Data Imputation Study - Diagram <center>"
   ]
  },
  {
   "cell_type": "markdown",
   "metadata": {},
   "source": [
    "We are going to call all the data sets that resulted from the **Data Imputation Strategy** of notebook **01-01-Data_Treatment**."
   ]
  },
  {
   "cell_type": "code",
   "execution_count": 2,
   "metadata": {},
   "outputs": [],
   "source": [
    "dt_01 = pd.read_csv('Preprocessed_Data/_01_dt_01.csv', index_col=[0], parse_dates=[0], header=0)\n",
    "dt_02 = pd.read_csv('Preprocessed_Data/_01_dt_02.csv', index_col=[0], parse_dates=[0], header=0)\n",
    "dt_03 = pd.read_csv('Preprocessed_Data/_01_dt_03.csv', index_col=[0], parse_dates=[0], header=0)"
   ]
  },
  {
   "cell_type": "markdown",
   "metadata": {},
   "source": [
    "---"
   ]
  },
  {
   "cell_type": "markdown",
   "metadata": {},
   "source": [
    "### 1.1 Time"
   ]
  },
  {
   "cell_type": "markdown",
   "metadata": {},
   "source": [
    "This group of new features, was supported by the patterns encounter in each of the temporal partitions performed in the consumption analysis, in the previous notebook **02-00-EDA-Energy_Consumption_Analysis**. In attempt to offer to the forecasting models the possibility to distinguish those patterns three features were generated with integers values that differ depending on the temporal partition,\n",
    "\n",
    "Example: for monthly partition, integers from 1 to 12 were set in the new feature. The three new features were named after each temporal partition, specifically **t_month**, **t_dayofweek**, and **t_hour**.\n",
    "\n",
    "They were already created in the first notebook **01-00-Data_Treatment** to ease the analyses."
   ]
  },
  {
   "cell_type": "code",
   "execution_count": 3,
   "metadata": {},
   "outputs": [
    {
     "name": "stdout",
     "output_type": "stream",
     "text": [
      "<class 'pandas.core.frame.DataFrame'>\n",
      "DatetimeIndex: 23763 entries, 2014-01-01 01:00:00 to 2018-12-31 23:00:00\n",
      "Data columns (total 17 columns):\n",
      " #   Column            Non-Null Count  Dtype  \n",
      "---  ------            --------------  -----  \n",
      " 0   civil             23763 non-null  float64\n",
      " 1   south_tower       23763 non-null  float64\n",
      " 2   wt_temp           23763 non-null  float64\n",
      " 3   wt_tmpap          23763 non-null  float64\n",
      " 4   wt_hr             23763 non-null  float64\n",
      " 5   wt_max_windgust   23763 non-null  float64\n",
      " 6   wt_mean_windspd   23763 non-null  float64\n",
      " 7   wt_mean_pres      23763 non-null  float64\n",
      " 8   wt_mean_solarrad  23763 non-null  float64\n",
      " 9   wt_rain_day       23763 non-null  float64\n",
      " 10  t_hour            23763 non-null  int64  \n",
      " 11  t_month           23763 non-null  int64  \n",
      " 12  t_dayofweek       23763 non-null  int64  \n",
      " 13  t_year            23763 non-null  int64  \n",
      " 14  miss_civil        23763 non-null  int64  \n",
      " 15  miss_south_tower  23763 non-null  int64  \n",
      " 16  miss_wt           23763 non-null  int64  \n",
      "dtypes: float64(10), int64(7)\n",
      "memory usage: 3.3 MB\n"
     ]
    }
   ],
   "source": [
    "dt_01.info()"
   ]
  },
  {
   "cell_type": "markdown",
   "metadata": {},
   "source": [
    "---"
   ]
  },
  {
   "cell_type": "markdown",
   "metadata": {},
   "source": [
    "### 1.2. Calendar"
   ]
  },
  {
   "cell_type": "markdown",
   "metadata": {},
   "source": [
    "In the absence of each building real occupancy data, this category was implemented. Basically attempts to replicate the real occupancy per day, with two different features. For that, each of the features use integer values, **levels**, that quantify the expected daily occupancy rate, being the lowest level the one that has the smallest occupancy rate."
   ]
  },
  {
   "cell_type": "markdown",
   "metadata": {},
   "source": [
    "#### 1.2.1 Workday Feature"
   ]
  },
  {
   "cell_type": "markdown",
   "metadata": {},
   "source": [
    "The first feature, named as **s_workday**, specifies the type of day in three distinguished levels, defined\n",
    "as:\n",
    "- **Level 0** - represents weekends and the two weeks yearly summer break of all campus facilities;\n",
    "- **Level 1** - identifies the holidays that occur during the week. This level, although representing\n",
    "non-working days, in the case of an institutional buildings, their rate of occupancy is, usually,\n",
    "in-between the other two levels;\n",
    "- **Level 2** - as the last level in s_workday feature, represents the normal working days, where\n",
    "the occupancy rate is expected to be the highest."
   ]
  },
  {
   "cell_type": "code",
   "execution_count": 4,
   "metadata": {},
   "outputs": [],
   "source": [
    "def create_workday(dt):\n",
    "    '''\n",
    "    Creates a new column that quantifies the type of day in three different levels. \n",
    "    It uses holiday package to know which day is an national holiday in Portugal.\n",
    "    \n",
    "    Input: DataFrame\n",
    "    Output: DataFrame\n",
    "    '''\n",
    "    \n",
    "    # Instantiate Portugal object\n",
    "    port_holidays = holidays.PortugalExt()\n",
    "    \n",
    "    # Adapt object\n",
    "    # Remove 26th holiday - once all the buildings behave like it's a normal working day\n",
    "    for year in dt['t_year'].unique():\n",
    "        port_holidays.pop(str(year)+'-12-26')\n",
    "    \n",
    "    # Add more holidays to the package\n",
    "    port_holidays.append({'2014-06-19':'Corpo de Deus',\n",
    "                          '2014-10-05':'Implantação da República', \n",
    "                          '2014-10-01':'Dia de Todos os Santos', \n",
    "                          '2014-12-01':'Restauração da Independência'})\n",
    "\n",
    "    # Create new column\n",
    "    dt['s_workday'] = (dt['civil']*0)+2\n",
    "    \n",
    "    # Generation of 1 for holidays and 0 for workdays\n",
    "    x = range(0, len(dt))\n",
    "    for hour in x:    \n",
    "        workday = dt['s_workday'][hour]\n",
    "        weekday = dt['t_dayofweek'][hour]\n",
    "        # Indexing the days - to add more vacations\n",
    "        idx = dt.index[hour]   \n",
    "        d = idx.day\n",
    "        m = idx.month\n",
    "        y = idx.year\n",
    "\n",
    "        # Append holdays\n",
    "        if date(y,m,d) in port_holidays:\n",
    "            dt['s_workday'][hour] = 1\n",
    "            \n",
    "        # Weekend days\n",
    "        elif weekday == 5 or weekday == 6:\n",
    "            dt['s_workday'][hour] = 0\n",
    "    \n",
    "    # Adapt object - Summer Break of Instituto Superior Técnico, Universidade de Lisboa\n",
    "    # 2014 - Summer break\n",
    "    august_14 = pd.date_range(start='2014-08-04', end='2014-08-15')\n",
    "    dt['s_workday'][pd.DatetimeIndex(dt.index.date).isin(august_14)] = 0\n",
    "\n",
    "    # 2017 - Summer break\n",
    "    august_17 = pd.date_range(start='2017-07-31', end='2017-08-11')\n",
    "    dt['s_workday'][pd.DatetimeIndex(dt.index.date).isin(august_17)] = 0\n",
    "\n",
    "    # 2018 - Summer break\n",
    "    august_18 = pd.date_range(start='2018-08-06', end='2018-08-17')\n",
    "    dt['s_workday'][pd.DatetimeIndex(dt.index.date).isin(august_18)] = 0\n",
    "    \n",
    "    return dt"
   ]
  },
  {
   "cell_type": "code",
   "execution_count": 5,
   "metadata": {},
   "outputs": [],
   "source": [
    "# Create s_workday feature\n",
    "dt_01 = create_workday(dt_01)\n",
    "dt_02 = create_workday(dt_02)\n",
    "dt_03 = create_workday(dt_03)"
   ]
  },
  {
   "cell_type": "markdown",
   "metadata": {},
   "source": [
    "##### Extra Section: Workday feature vs. Clusters\n",
    "\n",
    "As promised we are going to check the quality of the s_workday and time features assuming that the clusters previously identified can propertly identify the day type."
   ]
  },
  {
   "cell_type": "code",
   "execution_count": 6,
   "metadata": {},
   "outputs": [],
   "source": [
    "def column_aggregation_to_dataset(cl_building_pivot, original_dt, building_name):\n",
    "    \n",
    "    # Drop unnecessary data\n",
    "    cl = cl_building_pivot.reset_index(level='cluster')\n",
    "    cl = cl.drop([building_name], axis = 1)\n",
    "    \n",
    "    # Set again to hourly data - respecting clusters\n",
    "    cl.index = pd.to_datetime(cl.index)\n",
    "    cl = cl.resample('H').pad()\n",
    "    \n",
    "    # Rename column\n",
    "    column_name = building_name+'_cl'\n",
    "       \n",
    "    cl.columns = [column_name]\n",
    "    \n",
    "    # Add column to original dataset\n",
    "    new_dt = pd.merge(original_dt,cl, how='inner', left_index=True, right_index=True)\n",
    "    \n",
    "    return new_dt, cl\n",
    "\n",
    "def workday_season_vs_cluster(dt, building):\n",
    "    \n",
    "    # To know the quantity of clusters\n",
    "    k = len(dt[building+'_cl'].unique())\n",
    "    \n",
    "    # List of percentages\n",
    "    perc = []\n",
    "    \n",
    "    # For loop need\n",
    "    for i in range(k): \n",
    "        # All data from a cluster\n",
    "        cluster = dt[dt[building+'_cl'] == i]\n",
    "        total = len(cluster)\n",
    "\n",
    "        \n",
    "        # Workday\n",
    "        wd = len(cluster[cluster['s_workday']==2])\n",
    "        h = len(cluster[cluster['s_workday']==1])\n",
    "        wk = len(cluster[cluster['s_workday']==0])\n",
    "        \n",
    "        # Season Heating vs. Cooling\n",
    "        heating_season = [1, 2, 3, 4, 11, 12]\n",
    "        heating = len(cluster.loc[cluster['t_month'].isin(heating_season)])\n",
    "        cooling_season = [5, 6, 7, 8, 9, 10]\n",
    "        cooling = len(cluster.loc[cluster['t_month'].isin(cooling_season)])\n",
    "               \n",
    "        # Percentage\n",
    "        perc_wd = round((wd/total)*100, 1)\n",
    "        perc_h = round((h/total)*100, 1)\n",
    "        perc_wk = round((wk/total)*100, 1)\n",
    "        \n",
    "        perc_heat = round((heating/total)*100, 1)\n",
    "        perc_cool = round((cooling/total)*100, 1)\n",
    "        \n",
    "        perc.append(['k='+str(i), perc_wd, perc_h, perc_wk, perc_heat, perc_cool])\n",
    "        \n",
    "    perc_dt = pd.DataFrame(data=perc,columns=['Cluster','workday(%)','holiday(%)','weekend and summer break(%)', 'Heating Season(%)', 'Cooling Season(%)']).set_index('Cluster')\n",
    "        \n",
    "    return perc_dt"
   ]
  },
  {
   "cell_type": "code",
   "execution_count": 7,
   "metadata": {},
   "outputs": [],
   "source": [
    "# Import Data\n",
    "k_civil_pivot = pd.read_csv('Preprocessed_Data/_02_pivot_civil_clustered.csv', index_col=[0,1], header=[0,1])\n",
    "k_stw_pivot = pd.read_csv('Preprocessed_Data/_02_pivot_stw_clustered.csv', index_col=[0, 1], header=[0, 1])"
   ]
  },
  {
   "cell_type": "markdown",
   "metadata": {},
   "source": [
    "**Civil Building**"
   ]
  },
  {
   "cell_type": "markdown",
   "metadata": {},
   "source": [
    "<a id='civil_building'></a>"
   ]
  },
  {
   "cell_type": "markdown",
   "metadata": {},
   "source": [
    "<img src=\"https://imgur.com/PSVhwVF.png\" width=\"800\" height=\"500\" align=\"center\"/>\n",
    "<center> <b>Fig.2</b> - Data Imputation Study - Diagram <center>"
   ]
  },
  {
   "cell_type": "code",
   "execution_count": 8,
   "metadata": {},
   "outputs": [
    {
     "data": {
      "text/html": [
       "<div>\n",
       "<style scoped>\n",
       "    .dataframe tbody tr th:only-of-type {\n",
       "        vertical-align: middle;\n",
       "    }\n",
       "\n",
       "    .dataframe tbody tr th {\n",
       "        vertical-align: top;\n",
       "    }\n",
       "\n",
       "    .dataframe thead th {\n",
       "        text-align: right;\n",
       "    }\n",
       "</style>\n",
       "<table border=\"1\" class=\"dataframe\">\n",
       "  <thead>\n",
       "    <tr style=\"text-align: right;\">\n",
       "      <th></th>\n",
       "      <th>workday(%)</th>\n",
       "      <th>holiday(%)</th>\n",
       "      <th>weekend and summer break(%)</th>\n",
       "      <th>Heating Season(%)</th>\n",
       "      <th>Cooling Season(%)</th>\n",
       "    </tr>\n",
       "    <tr>\n",
       "      <th>Cluster</th>\n",
       "      <th></th>\n",
       "      <th></th>\n",
       "      <th></th>\n",
       "      <th></th>\n",
       "      <th></th>\n",
       "    </tr>\n",
       "  </thead>\n",
       "  <tbody>\n",
       "    <tr>\n",
       "      <th>k=0</th>\n",
       "      <td>95.6</td>\n",
       "      <td>2.0</td>\n",
       "      <td>2.3</td>\n",
       "      <td>43.3</td>\n",
       "      <td>56.7</td>\n",
       "    </tr>\n",
       "    <tr>\n",
       "      <th>k=1</th>\n",
       "      <td>3.8</td>\n",
       "      <td>11.1</td>\n",
       "      <td>85.1</td>\n",
       "      <td>52.6</td>\n",
       "      <td>47.4</td>\n",
       "    </tr>\n",
       "    <tr>\n",
       "      <th>k=2</th>\n",
       "      <td>99.4</td>\n",
       "      <td>0.0</td>\n",
       "      <td>0.6</td>\n",
       "      <td>57.6</td>\n",
       "      <td>42.4</td>\n",
       "    </tr>\n",
       "  </tbody>\n",
       "</table>\n",
       "</div>"
      ],
      "text/plain": [
       "         workday(%)  holiday(%)  weekend and summer break(%)  \\\n",
       "Cluster                                                        \n",
       "k=0            95.6         2.0                          2.3   \n",
       "k=1             3.8        11.1                         85.1   \n",
       "k=2            99.4         0.0                          0.6   \n",
       "\n",
       "         Heating Season(%)  Cooling Season(%)  \n",
       "Cluster                                        \n",
       "k=0                   43.3               56.7  \n",
       "k=1                   52.6               47.4  \n",
       "k=2                   57.6               42.4  "
      ]
     },
     "execution_count": 8,
     "metadata": {},
     "output_type": "execute_result"
    }
   ],
   "source": [
    "dt_cl, civil_cl = column_aggregation_to_dataset(k_civil_pivot, dt_01, 'civil')\n",
    "workday_season_vs_cluster(dt_cl, 'civil')"
   ]
  },
  {
   "cell_type": "markdown",
   "metadata": {},
   "source": [
    "**South tower**"
   ]
  },
  {
   "cell_type": "markdown",
   "metadata": {},
   "source": [
    "<a id='south_tower'></a>"
   ]
  },
  {
   "cell_type": "markdown",
   "metadata": {},
   "source": [
    "<img src=\"https://imgur.com/m84M0bX.png\" width=\"800\" height=\"500\" align=\"center\"/>\n",
    "<center> <b>Fig.3</b> - South tower building daily consumption patterns defined by k-means algorithm (k=3) <center>"
   ]
  },
  {
   "cell_type": "code",
   "execution_count": 9,
   "metadata": {},
   "outputs": [
    {
     "data": {
      "text/html": [
       "<div>\n",
       "<style scoped>\n",
       "    .dataframe tbody tr th:only-of-type {\n",
       "        vertical-align: middle;\n",
       "    }\n",
       "\n",
       "    .dataframe tbody tr th {\n",
       "        vertical-align: top;\n",
       "    }\n",
       "\n",
       "    .dataframe thead th {\n",
       "        text-align: right;\n",
       "    }\n",
       "</style>\n",
       "<table border=\"1\" class=\"dataframe\">\n",
       "  <thead>\n",
       "    <tr style=\"text-align: right;\">\n",
       "      <th></th>\n",
       "      <th>workday(%)</th>\n",
       "      <th>holiday(%)</th>\n",
       "      <th>weekend and summer break(%)</th>\n",
       "      <th>Heating Season(%)</th>\n",
       "      <th>Cooling Season(%)</th>\n",
       "    </tr>\n",
       "    <tr>\n",
       "      <th>Cluster</th>\n",
       "      <th></th>\n",
       "      <th></th>\n",
       "      <th></th>\n",
       "      <th></th>\n",
       "      <th></th>\n",
       "    </tr>\n",
       "  </thead>\n",
       "  <tbody>\n",
       "    <tr>\n",
       "      <th>k=0</th>\n",
       "      <td>4.1</td>\n",
       "      <td>10.5</td>\n",
       "      <td>85.3</td>\n",
       "      <td>62.0</td>\n",
       "      <td>38.0</td>\n",
       "    </tr>\n",
       "    <tr>\n",
       "      <th>k=1</th>\n",
       "      <td>98.1</td>\n",
       "      <td>0.0</td>\n",
       "      <td>1.9</td>\n",
       "      <td>2.2</td>\n",
       "      <td>97.8</td>\n",
       "    </tr>\n",
       "    <tr>\n",
       "      <th>k=2</th>\n",
       "      <td>97.6</td>\n",
       "      <td>1.6</td>\n",
       "      <td>0.8</td>\n",
       "      <td>88.6</td>\n",
       "      <td>11.4</td>\n",
       "    </tr>\n",
       "    <tr>\n",
       "      <th>k=3</th>\n",
       "      <td>26.7</td>\n",
       "      <td>9.8</td>\n",
       "      <td>63.5</td>\n",
       "      <td>26.0</td>\n",
       "      <td>74.0</td>\n",
       "    </tr>\n",
       "  </tbody>\n",
       "</table>\n",
       "</div>"
      ],
      "text/plain": [
       "         workday(%)  holiday(%)  weekend and summer break(%)  \\\n",
       "Cluster                                                        \n",
       "k=0             4.1        10.5                         85.3   \n",
       "k=1            98.1         0.0                          1.9   \n",
       "k=2            97.6         1.6                          0.8   \n",
       "k=3            26.7         9.8                         63.5   \n",
       "\n",
       "         Heating Season(%)  Cooling Season(%)  \n",
       "Cluster                                        \n",
       "k=0                   62.0               38.0  \n",
       "k=1                    2.2               97.8  \n",
       "k=2                   88.6               11.4  \n",
       "k=3                   26.0               74.0  "
      ]
     },
     "execution_count": 9,
     "metadata": {},
     "output_type": "execute_result"
    }
   ],
   "source": [
    "dt_cl, stw_cl = column_aggregation_to_dataset(k_stw_pivot, dt_01, 'south_tower')\n",
    "workday_season_vs_cluster(dt_cl, 'south_tower')"
   ]
  },
  {
   "cell_type": "markdown",
   "metadata": {},
   "source": [
    "It can be seen that the **s_workday** and **time** features are able to define the type of day:\n",
    "\n",
    "- The workday percentage of days in clusters k=0 and k=2 for **Civil building** and also in k=1 and k=2 for **South tower** is almost 100%;\n",
    "- The holiday percentage of days is almost pratically clustered in one cluster (k=2) for **Civil building** and for two clusters (k=0 and k=3) for **South tower**."
   ]
  },
  {
   "cell_type": "markdown",
   "metadata": {},
   "source": [
    "<div class=\"alert alert-block alert-success\">\n",
    "    <b>NOTE</b>: It is also possible to notice that <b>South Tower</b> is greatly influenced by heating and cooling season as referred earlier in the monthly analysis (<b>02-00-EDA-Energy_Consumption_Analysis</b>), in opposition <b>Civil building</b> that has around 50% of days in cooling and heating season is not influenced at all by different seasons.\n",
    "</div>"
   ]
  },
  {
   "cell_type": "markdown",
   "metadata": {},
   "source": [
    "#### 1.2.2 Exam Seasons Feature"
   ]
  },
  {
   "cell_type": "markdown",
   "metadata": {},
   "source": [
    "The second feature, denoted as **s_epochs**, attempts to give the model information about the different types of occupancy occurring when there is exams, classes, and break periods during the [academic calendar](https://conselhopedagogico.tecnico.ulisboa.pt/documentos/calendarios/). For that, also three levels were specified:\n",
    "\n",
    "- **Level 0** - corresponds again, to the lowest rate of occupancy, the break period between semesters;\n",
    "- **Level 1** - identifies the exams period, with no classes;\n",
    "- **Level 2** - refers to the classes period of each of the academic semesters."
   ]
  },
  {
   "cell_type": "code",
   "execution_count": 10,
   "metadata": {},
   "outputs": [],
   "source": [
    "def different_epochs(dt):\n",
    "    '''\n",
    "    Creates a new column that quantifies the type of day in three different levels, \n",
    "    based on Instituto Superior Técnico Academic Calendar\n",
    "    \n",
    "    Input: DataFrame\n",
    "    Output: DataFrame\n",
    "    '''    \n",
    "    # Create new column\n",
    "    dt['s_epochs'] = dt['civil']*0\n",
    "    \n",
    "    #### 2014\n",
    "    ### CLASS PERIOD\n",
    "    ## 2nd Semester\n",
    "    class_14_2 = pd.date_range(start='2014-02-17', end='2014-05-30')\n",
    "    dt['s_epochs'][pd.DatetimeIndex(dt.index.date).isin(class_14_2)] = 2\n",
    "\n",
    "    # Breaks in 2nd semester\n",
    "    # Carnival\n",
    "    carnival_14 = pd.date_range(start='2014-03-03', end='2014-03-04')\n",
    "    dt['s_epochs'][pd.DatetimeIndex(dt.index.date).isin(carnival_14)] = 0 \n",
    "    # Easter Break\n",
    "    easter_14 = pd.date_range(start='2014-04-13', end='2014-04-20')\n",
    "    dt['s_epochs'][pd.DatetimeIndex(dt.index.date).isin(easter_14)] = 0\n",
    "    \n",
    "    ## 1st Semester\n",
    "    class_14 = pd.date_range(start='2014-09-15', end='2014-12-19')\n",
    "    dt['s_epochs'][pd.DatetimeIndex(dt.index.date).isin(class_14)] = 2\n",
    "\n",
    "        \n",
    "    ## EXAMS PERIOD\n",
    "    # represent all the period, with first and second wave of exams\n",
    "    ## 1st semester\n",
    "    exam_14 = pd.date_range(start='2014-01-03', end='2014-02-01')\n",
    "    dt['s_epochs'][pd.DatetimeIndex(dt.index.date).isin(exam_14)] = 1\n",
    "    \n",
    "    ## 2nd semester\n",
    "    exam_14_2 = pd.date_range(start='2014-06-07', end='2014-07-04')\n",
    "    dt['s_epochs'][pd.DatetimeIndex(dt.index.date).isin(exam_14_2)] = 1\n",
    "    \n",
    "    \n",
    "    \n",
    "    #### 2017\n",
    "    ### Class Period\n",
    "    ## 2nd Semester\n",
    "    class_17_2 = pd.date_range(start='2017-02-20', end='2017-06-02')\n",
    "    dt['s_epochs'][pd.DatetimeIndex(dt.index.date).isin(class_17_2)] = 2\n",
    "    \n",
    "    # Breaks in 2nd semester\n",
    "    # Carnival\n",
    "    carnival_17 = pd.date_range(start='2017-02-27', end='2017-02-28')\n",
    "    dt['s_epochs'][pd.DatetimeIndex(dt.index.date).isin(carnival_17)] = 0 \n",
    "    # Easter Break\n",
    "    easter_17 = pd.date_range(start='2017-04-10', end='2017-04-14')\n",
    "    dt['s_epochs'][pd.DatetimeIndex(dt.index.date).isin(easter_17)] = 0\n",
    "    \n",
    "    \n",
    "    ## 1st Semester\n",
    "    class_17_2 = pd.date_range(start='2017-09-18', end='2017-12-15')\n",
    "    dt['s_epochs'][pd.DatetimeIndex(dt.index.date).isin(class_17_2)] = 2\n",
    "\n",
    "\n",
    "    ## EXAMS PERIOD\n",
    "    # represent all the period, with first and second wave of exams\n",
    "    ## 1st semester\n",
    "    exam_17 = pd.date_range(start='2017-01-07', end='2017-02-04')\n",
    "    dt['s_epochs'][pd.DatetimeIndex(dt.index.date).isin(exam_17)] = 1\n",
    "    \n",
    "    ## 2nd semester\n",
    "    exam_17_2 = pd.date_range(start='2017-06-12', end='2017-07-08')\n",
    "    dt['s_epochs'][pd.DatetimeIndex(dt.index.date).isin(exam_17_2)] = 1\n",
    "\n",
    "\n",
    "    #### 2018\n",
    "    ### CLASS PERIOD\n",
    "    ## 2nd Semester\n",
    "    class_18_2 = pd.date_range(start='2018-02-19', end='2018-06-01')\n",
    "    dt['s_epochs'][pd.DatetimeIndex(dt.index.date).isin(class_18_2)] = 2\n",
    "    \n",
    "    # Breaks in 2nd semester\n",
    "    # Easter Break\n",
    "    easter_18 = pd.date_range(start='2018-04-26', end='2018-04-30')\n",
    "    dt['s_epochs'][pd.DatetimeIndex(dt.index.date).isin(easter_18)] = 0\n",
    "    \n",
    "    \n",
    "    ## 1st Semester\n",
    "    class_18 = pd.date_range(start='2018-09-17', end='2018-12-21')\n",
    "    dt['s_epochs'][pd.DatetimeIndex(dt.index.date).isin(class_18)] = 2\n",
    "\n",
    "    ## EXAMS PERIOD\n",
    "    # represent all the period, with first and second wave of exams\n",
    "    ## 1st semester\n",
    "    exam_18 = pd.date_range(start='2018-01-06', end='2018-02-03')\n",
    "    dt['s_epochs'][pd.DatetimeIndex(dt.index.date).isin(exam_18)] = 1\n",
    "    \n",
    "    ## 2nd semester\n",
    "    exam_18_2 = pd.date_range(start='2018-06-09', end='2018-07-07')\n",
    "    dt['s_epochs'][pd.DatetimeIndex(dt.index.date).isin(exam_18_2)] = 1\n",
    "    \n",
    "    return dt"
   ]
  },
  {
   "cell_type": "code",
   "execution_count": 11,
   "metadata": {},
   "outputs": [],
   "source": [
    "# Create s_epochs feature\n",
    "dt_01 = different_epochs(dt_01)\n",
    "dt_02 = different_epochs(dt_02)\n",
    "dt_03 = different_epochs(dt_03)"
   ]
  },
  {
   "cell_type": "markdown",
   "metadata": {},
   "source": [
    "---"
   ]
  },
  {
   "cell_type": "markdown",
   "metadata": {},
   "source": [
    "### 1.3. Energy Consumption"
   ]
  },
  {
   "cell_type": "markdown",
   "metadata": {},
   "source": [
    "This category was used to create a sort of **“guidelines”** using each building consumption, to enhance\n",
    "the performance of the forecasting models. These “guidelines” can be distinguished into two different\n",
    "groups, according to the technique used to generate them."
   ]
  },
  {
   "cell_type": "markdown",
   "metadata": {},
   "source": [
    "#### 1.3.1 Average Cluster Consumption"
   ]
  },
  {
   "cell_type": "markdown",
   "metadata": {},
   "source": [
    "This first group uses the mean daily pattern consumption of each cluster identified in 2017 year (previous notebook **02-00-EDA-Energy_Consumption_Analysis**) to create a new feature. \n",
    "\n",
    "Basically, this feature replicates each cluster mean pattern along all the data frame, as it is illustrate in **Fig. 4**.\n",
    "\n",
    "There are as many new features per building as clusters identified:\n",
    "- [3](#civil_building) clusters/features for Civil Building\n",
    "- [4](#south_tower) clusters/features for South Tower\n",
    "\n",
    "To identify each feature the correspondent cluster’s number `k` was used as feature name suffix, e.g. for cluster `k = 0` of Civil building the feature name is `cl_civil_0`"
   ]
  },
  {
   "cell_type": "markdown",
   "metadata": {},
   "source": [
    "<img src=\"https://imgur.com/lM23B2W.png\" width=\"550\" height=\"400\" align=\"center\"/>\n",
    "<center> <b>Fig.4</b> - Civil Building cluster average feature from k=0 <center>"
   ]
  },
  {
   "cell_type": "code",
   "execution_count": 12,
   "metadata": {},
   "outputs": [],
   "source": [
    "def create_mean_cluster_feat(dt, building_name):\n",
    "    \n",
    "    # dt_02 will be used for the clusters, since its the one that the consumption of each building was not dropped nor imputed\n",
    "    # Year = 2017 - since it is the closest year to the prediction year\n",
    "    building = pd.read_csv('Preprocessed_Data/_01_dt_02.csv', index_col=[0], parse_dates=[0], header=0)['2017']\n",
    "    building = building[[building_name]+['t_hour']]\n",
    "    building.index = building.index.date\n",
    "    \n",
    "    # Pivot column 't_hour' & drop incompleted days\n",
    "    building_pivot = building.pivot(columns='t_hour').dropna()\n",
    "    \n",
    "    # Create a copy of a dataframe\n",
    "    X_building = building_pivot.values.copy()\n",
    "    \n",
    "    # Scale for K-Means\n",
    "    scaler = MinMaxScaler()\n",
    "    X_building = scaler.fit_transform(X_building)\n",
    "    \n",
    "    # Predefined Silhouette Scores by building\n",
    "    if building_name == 'civil':\n",
    "        n_clusters = 3\n",
    "        \n",
    "    # Representing South tower\n",
    "    else:\n",
    "        n_clusters = 4\n",
    "    \n",
    "    kmeans = KMeans(n_clusters=n_clusters)\n",
    "    \n",
    "    cluster_found = kmeans.fit_predict(X_building)\n",
    "    \n",
    "    # Convert each day to series\n",
    "    cluster_found_sr = pd.Series(cluster_found, name='cluster')\n",
    "    \n",
    "    # Append cluster data\n",
    "    clustered_building_pivot = building_pivot.set_index(cluster_found_sr, append=True)\n",
    "\n",
    "    # Create a column for each n_clusters of the mean hourly data\n",
    "    for i in range(n_clusters):\n",
    "        mapping = dict(clustered_building_pivot.xs(i, level=1).mean().reset_index(level=0)[0])\n",
    "        dt['cl_'+building_name+'_'+str(i)] = dt.index.hour.map(mapping)\n",
    "        \n",
    "    return dt\n",
    "\n",
    "\n",
    "def cluster_pattern(dt):\n",
    "    buildings = ['civil', 'south_tower']\n",
    "    for name in buildings:\n",
    "        dt = create_mean_cluster_feat(dt, name)\n",
    "    return dt         \n",
    "    "
   ]
  },
  {
   "cell_type": "code",
   "execution_count": 13,
   "metadata": {},
   "outputs": [],
   "source": [
    "dt_01 = cluster_pattern(dt_01)\n",
    "dt_02 = cluster_pattern(dt_02) \n",
    "dt_03 = cluster_pattern(dt_03)"
   ]
  },
  {
   "cell_type": "markdown",
   "metadata": {},
   "source": [
    "#### 1.3.2 Lagged Consumption"
   ]
  },
  {
   "cell_type": "markdown",
   "metadata": {},
   "source": [
    "The second anf last group of generated features was defined taking into account the common use of lagged features in time series analyses. \n",
    "\n",
    "This new group of features was based in the **autocorrelation of each building energy consumption**. The autocorrelation was obtained using **Pearson's correlation** between a chosen number of previous hours and the actual hour, **Fig 5** and **6**."
   ]
  },
  {
   "cell_type": "code",
   "execution_count": 25,
   "metadata": {},
   "outputs": [],
   "source": [
    "def auto_correlation_plot(dt, building, lags):\n",
    "    fig, ax = plt.subplots(figsize=(20,10))\n",
    "    plot_acf(dt[building],ax=ax,lags=lags);\n",
    "    ax.set_title('Autocorrelation: Hourly Energy Consumption '+ building.capitalize(), fontsize=22)\n",
    "    ax.set_xlabel('Hourly Consumption Lags', fontsize=16)\n",
    "    ax.set_ylabel('Autocorrelation', fontsize=16)\n",
    "    plt.xlim(0-2, lags+2)"
   ]
  },
  {
   "cell_type": "code",
   "execution_count": 26,
   "metadata": {
    "scrolled": false
   },
   "outputs": [
    {
     "data": {
      "image/png": "[encoded data removed]",
      "text/plain": [
       "<Figure size 1440x720 with 1 Axes>"
      ]
     },
     "metadata": {
      "needs_background": "light"
     },
     "output_type": "display_data"
    }
   ],
   "source": [
    "auto_correlation_plot(dt_02['2018'], 'civil', 24*14)"
   ]
  },
  {
   "cell_type": "markdown",
   "metadata": {},
   "source": [
    "<center> <b>Fig.5</b> - Autocorrelation of Civil building hourly energy consumption <center>"
   ]
  },
  {
   "cell_type": "code",
   "execution_count": 16,
   "metadata": {},
   "outputs": [
    {
     "data": {
      "image/png": "[encoded data removed]",
      "text/plain": [
       "<Figure size 1440x720 with 1 Axes>"
      ]
     },
     "metadata": {
      "needs_background": "light"
     },
     "output_type": "display_data"
    }
   ],
   "source": [
    "auto_correlation_plot(dt_02['2018'], 'south_tower', 24*14)"
   ]
  },
  {
   "cell_type": "markdown",
   "metadata": {},
   "source": [
    "<center> <b>Fig.6</b> - Autocorrelation of South tower building hourly energy consumption <center>"
   ]
  },
  {
   "cell_type": "markdown",
   "metadata": {},
   "source": [
    "From **Fig 5** and **6**, it is noticeable that the three most autocorrelated periods, take place first at the **previous hour**, then a **week before**, and lastly at the **previous day**. \n",
    "\n",
    "\n",
    "These **three periods** were used to generate lagged features for each building. As a consequence of that, the first week of 2014 was lost. The new features were named using the lagged period as suffix, e.g. 𝑐𝑖𝑣𝑖𝑙_𝑙𝑎𝑔1ℎ𝑜𝑢𝑟 for civil building previous hour."
   ]
  },
  {
   "cell_type": "code",
   "execution_count": 17,
   "metadata": {},
   "outputs": [],
   "source": [
    "def lag_features(dt):\n",
    "    \n",
    "    dic_lags = {'1hour': 1, '1day':1*24, '1week':7*24}\n",
    "    features = ['civil', 'south_tower']\n",
    "    \n",
    "    for name, time in dic_lags.items():\n",
    "        for feat in features:\n",
    "            dt[feat+'_lag'+name] = dt[feat].shift(periods=time)\n",
    "    \n",
    "    dt = dt.dropna()    \n",
    "    return dt"
   ]
  },
  {
   "cell_type": "code",
   "execution_count": 18,
   "metadata": {},
   "outputs": [],
   "source": [
    "dt_01 = lag_features(dt_01)\n",
    "dt_02 = lag_features(dt_02)\n",
    "dt_03 = lag_features(dt_03)"
   ]
  },
  {
   "cell_type": "markdown",
   "metadata": {},
   "source": [
    "To **complement each of the chosen periods**, it was also created three other features, that provide the minimum, the maximum and the average of the three hours prior to each period, through the use of a **rolling window technique**.\n",
    "\n",
    "These new features were chosen not only due to the high autocorrelation of the last 3 hours, but also to provide to the lagged features a certain continuity. The reason why the rolling window technique was selected and not directly  the three hours  prior the periods used was based on the absence of losing more data.\n",
    "\n",
    "For the rolling window features name it was added a suffix to the lagged feature that characterizes the period that was selected from, e.g. for civil building 1 hour lagged rolling window maximum, `civil_lag1hour_rollmax`"
   ]
  },
  {
   "cell_type": "code",
   "execution_count": 22,
   "metadata": {},
   "outputs": [],
   "source": [
    "def add_rolling_feat(dt, n):\n",
    "    '''\n",
    "    Input: DataFrame \n",
    "           n (int) - that specifies the window for the rolling\n",
    "           \n",
    "    Output: DataFrame\n",
    "    '''\n",
    "    features = ['civil', 'south_tower']\n",
    "    lags = ['1hour','1day','1week']\n",
    "   \n",
    "    for feat in features:\n",
    "        \n",
    "        for var in lags:\n",
    "\n",
    "            column_to_roll = feat+'_lag'+var\n",
    "            \n",
    "            # Three different created columns based on min, max and mean\n",
    "            column_name = column_to_roll+'_roll'+'min'\n",
    "            dt[column_name] = dt[column_to_roll].rolling(n, min_periods=1).min()\n",
    "\n",
    "            column_name = column_to_roll+'_roll'+'max'\n",
    "            dt[column_name] = dt[column_to_roll].rolling(n, min_periods=1).max()\n",
    "\n",
    "            column_name = column_to_roll+'_roll'+'mean'\n",
    "            dt[column_name] = dt[column_to_roll].rolling(n, min_periods=1).mean()\n",
    "\n",
    "    return dt"
   ]
  },
  {
   "cell_type": "code",
   "execution_count": 23,
   "metadata": {},
   "outputs": [],
   "source": [
    "dt_01 = add_rolling_feat(dt_01, 3)\n",
    "dt_02 = add_rolling_feat(dt_02, 3)\n",
    "dt_03 = add_rolling_feat(dt_03, 3)"
   ]
  },
  {
   "cell_type": "code",
   "execution_count": 27,
   "metadata": {},
   "outputs": [
    {
     "name": "stdout",
     "output_type": "stream",
     "text": [
      "<class 'pandas.core.frame.DataFrame'>\n",
      "DatetimeIndex: 23595 entries, 2014-01-08 01:00:00 to 2018-12-31 23:00:00\n",
      "Data columns (total 50 columns):\n",
      " #   Column                         Non-Null Count  Dtype  \n",
      "---  ------                         --------------  -----  \n",
      " 0   civil                          23595 non-null  float64\n",
      " 1   south_tower                    23595 non-null  float64\n",
      " 2   wt_temp                        23595 non-null  float64\n",
      " 3   wt_tmpap                       23595 non-null  float64\n",
      " 4   wt_hr                          23595 non-null  float64\n",
      " 5   wt_max_windgust                23595 non-null  float64\n",
      " 6   wt_mean_windspd                23595 non-null  float64\n",
      " 7   wt_mean_pres                   23595 non-null  float64\n",
      " 8   wt_mean_solarrad               23595 non-null  float64\n",
      " 9   wt_rain_day                    23595 non-null  float64\n",
      " 10  t_hour                         23595 non-null  int64  \n",
      " 11  t_month                        23595 non-null  int64  \n",
      " 12  t_dayofweek                    23595 non-null  int64  \n",
      " 13  t_year                         23595 non-null  int64  \n",
      " 14  miss_civil                     23595 non-null  int64  \n",
      " 15  miss_south_tower               23595 non-null  int64  \n",
      " 16  miss_wt                        23595 non-null  int64  \n",
      " 17  s_workday                      23595 non-null  float64\n",
      " 18  s_epochs                       23595 non-null  float64\n",
      " 19  cl_civil_0                     23595 non-null  float64\n",
      " 20  cl_civil_1                     23595 non-null  float64\n",
      " 21  cl_civil_2                     23595 non-null  float64\n",
      " 22  cl_south_tower_0               23595 non-null  float64\n",
      " 23  cl_south_tower_1               23595 non-null  float64\n",
      " 24  cl_south_tower_2               23595 non-null  float64\n",
      " 25  cl_south_tower_3               23595 non-null  float64\n",
      " 26  civil_lag1hour                 23595 non-null  float64\n",
      " 27  south_tower_lag1hour           23595 non-null  float64\n",
      " 28  civil_lag1day                  23595 non-null  float64\n",
      " 29  south_tower_lag1day            23595 non-null  float64\n",
      " 30  civil_lag1week                 23595 non-null  float64\n",
      " 31  south_tower_lag1week           23595 non-null  float64\n",
      " 32  civil_lag1hour_rollmin         23595 non-null  float64\n",
      " 33  civil_lag1hour_rollmax         23595 non-null  float64\n",
      " 34  civil_lag1hour_rollmean        23595 non-null  float64\n",
      " 35  civil_lag1day_rollmin          23595 non-null  float64\n",
      " 36  civil_lag1day_rollmax          23595 non-null  float64\n",
      " 37  civil_lag1day_rollmean         23595 non-null  float64\n",
      " 38  civil_lag1week_rollmin         23595 non-null  float64\n",
      " 39  civil_lag1week_rollmax         23595 non-null  float64\n",
      " 40  civil_lag1week_rollmean        23595 non-null  float64\n",
      " 41  south_tower_lag1hour_rollmin   23595 non-null  float64\n",
      " 42  south_tower_lag1hour_rollmax   23595 non-null  float64\n",
      " 43  south_tower_lag1hour_rollmean  23595 non-null  float64\n",
      " 44  south_tower_lag1day_rollmin    23595 non-null  float64\n",
      " 45  south_tower_lag1day_rollmax    23595 non-null  float64\n",
      " 46  south_tower_lag1day_rollmean   23595 non-null  float64\n",
      " 47  south_tower_lag1week_rollmin   23595 non-null  float64\n",
      " 48  south_tower_lag1week_rollmax   23595 non-null  float64\n",
      " 49  south_tower_lag1week_rollmean  23595 non-null  float64\n",
      "dtypes: float64(43), int64(7)\n",
      "memory usage: 9.2 MB\n"
     ]
    }
   ],
   "source": [
    "# Check all existing features\n",
    "dt_01.info()"
   ]
  },
  {
   "cell_type": "markdown",
   "metadata": {},
   "source": [
    "### Split Data Sets per Building and Time Horizon"
   ]
  },
  {
   "cell_type": "markdown",
   "metadata": {},
   "source": [
    "Nonetheless, each data set was splited per **building** and **time horizon**, based on the set of features that are available to use for each of the different forecasting horizons (*an hour, a day, and a week*) [(check diagram)](https://ibb.co/qRFgPB0).\n",
    "\n",
    "Leaving **Civil building** data set with a total of **27 features** and **South tower** with a total of **28 features**."
   ]
  },
  {
   "cell_type": "code",
   "execution_count": 117,
   "metadata": {},
   "outputs": [],
   "source": [
    "def select_by_building(dt, building_name):\n",
    "    list_col = []\n",
    "    list_col.append([building_name])\n",
    "\n",
    "    vars_ = [ 't_','s_', 'cl_'+building_name, building_name+'_lag', 'wt_', 'miss_wt', 'miss_'+building_name]\n",
    "    for var in vars_:\n",
    "        list_col.append(select_by_type(dt, var))\n",
    "\n",
    "    # Verify if there isn't any repetitive value\n",
    "    #list_col = set(list_col)\n",
    "    list_col = [val for sublist in list_col for val in sublist]\n",
    "    \n",
    "    if len(list_col) != len(np.unique(list_col)):\n",
    "        raise ValueError('There are duplicates!!!')\n",
    "\n",
    "    dt = dt[list_col]\n",
    "    return dt\n",
    "\n",
    "def select_by_type(dt, d_type):\n",
    "    return list(dt.filter(regex='^'+d_type, axis=1).columns)"
   ]
  },
  {
   "cell_type": "code",
   "execution_count": 118,
   "metadata": {},
   "outputs": [],
   "source": [
    "# Civil building selection\n",
    "dt_01_civil = select_by_building(dt_01, 'civil')\n",
    "dt_02_civil = select_by_building(dt_02, 'civil')\n",
    "dt_03_civil = select_by_building(dt_03, 'civil')\n",
    "\n",
    "# South tower selection\n",
    "dt_01_stw = select_by_building(dt_01, 'south_tower')\n",
    "dt_02_stw = select_by_building(dt_02, 'south_tower')\n",
    "dt_03_stw = select_by_building(dt_03, 'south_tower')"
   ]
  },
  {
   "cell_type": "code",
   "execution_count": 119,
   "metadata": {},
   "outputs": [
    {
     "name": "stdout",
     "output_type": "stream",
     "text": [
      "<class 'pandas.core.frame.DataFrame'>\n",
      "DatetimeIndex: 23595 entries, 2014-01-08 01:00:00 to 2018-12-31 23:00:00\n",
      "Data columns (total 33 columns):\n",
      " #   Column                         Non-Null Count  Dtype  \n",
      "---  ------                         --------------  -----  \n",
      " 0   south_tower                    23595 non-null  float64\n",
      " 1   t_hour                         23595 non-null  int64  \n",
      " 2   t_month                        23595 non-null  int64  \n",
      " 3   t_dayofweek                    23595 non-null  int64  \n",
      " 4   t_year                         23595 non-null  int64  \n",
      " 5   s_workday                      23595 non-null  float64\n",
      " 6   s_epochs                       23595 non-null  float64\n",
      " 7   cl_south_tower_0               23595 non-null  float64\n",
      " 8   cl_south_tower_1               23595 non-null  float64\n",
      " 9   cl_south_tower_2               23595 non-null  float64\n",
      " 10  cl_south_tower_3               23595 non-null  float64\n",
      " 11  south_tower_lag1hour           23595 non-null  float64\n",
      " 12  south_tower_lag1day            23595 non-null  float64\n",
      " 13  south_tower_lag1week           23595 non-null  float64\n",
      " 14  south_tower_lag1hour_rollmin   23595 non-null  float64\n",
      " 15  south_tower_lag1hour_rollmax   23595 non-null  float64\n",
      " 16  south_tower_lag1hour_rollmean  23595 non-null  float64\n",
      " 17  south_tower_lag1day_rollmin    23595 non-null  float64\n",
      " 18  south_tower_lag1day_rollmax    23595 non-null  float64\n",
      " 19  south_tower_lag1day_rollmean   23595 non-null  float64\n",
      " 20  south_tower_lag1week_rollmin   23595 non-null  float64\n",
      " 21  south_tower_lag1week_rollmax   23595 non-null  float64\n",
      " 22  south_tower_lag1week_rollmean  23595 non-null  float64\n",
      " 23  wt_temp                        23595 non-null  float64\n",
      " 24  wt_tmpap                       23595 non-null  float64\n",
      " 25  wt_hr                          23595 non-null  float64\n",
      " 26  wt_max_windgust                23595 non-null  float64\n",
      " 27  wt_mean_windspd                23595 non-null  float64\n",
      " 28  wt_mean_pres                   23595 non-null  float64\n",
      " 29  wt_mean_solarrad               23595 non-null  float64\n",
      " 30  wt_rain_day                    23595 non-null  float64\n",
      " 31  miss_wt                        23595 non-null  int64  \n",
      " 32  miss_south_tower               23595 non-null  int64  \n",
      "dtypes: float64(27), int64(6)\n",
      "memory usage: 6.1 MB\n"
     ]
    }
   ],
   "source": [
    "dt_01_stw.info()"
   ]
  },
  {
   "cell_type": "code",
   "execution_count": 116,
   "metadata": {},
   "outputs": [
    {
     "name": "stdout",
     "output_type": "stream",
     "text": [
      "<class 'pandas.core.frame.DataFrame'>\n",
      "DatetimeIndex: 26112 entries, 2014-01-08 01:00:00 to 2018-12-31 23:00:00\n",
      "Data columns (total 33 columns):\n",
      " #   Column                         Non-Null Count  Dtype  \n",
      "---  ------                         --------------  -----  \n",
      " 0   south_tower                    26112 non-null  float64\n",
      " 1   s_workday                      26112 non-null  float64\n",
      " 2   s_epochs                       26112 non-null  float64\n",
      " 3   t_hour                         26112 non-null  int64  \n",
      " 4   t_month                        26112 non-null  int64  \n",
      " 5   t_dayofweek                    26112 non-null  int64  \n",
      " 6   t_year                         26112 non-null  int64  \n",
      " 7   cl_south_tower_0               26112 non-null  float64\n",
      " 8   cl_south_tower_1               26112 non-null  float64\n",
      " 9   cl_south_tower_2               26112 non-null  float64\n",
      " 10  cl_south_tower_3               26112 non-null  float64\n",
      " 11  south_tower_lag1hour           26112 non-null  float64\n",
      " 12  south_tower_lag1day            26112 non-null  float64\n",
      " 13  south_tower_lag1week           26112 non-null  float64\n",
      " 14  south_tower_lag1hour_rollmin   26112 non-null  float64\n",
      " 15  south_tower_lag1hour_rollmax   26112 non-null  float64\n",
      " 16  south_tower_lag1hour_rollmean  26112 non-null  float64\n",
      " 17  south_tower_lag1day_rollmin    26112 non-null  float64\n",
      " 18  south_tower_lag1day_rollmax    26112 non-null  float64\n",
      " 19  south_tower_lag1day_rollmean   26112 non-null  float64\n",
      " 20  south_tower_lag1week_rollmin   26112 non-null  float64\n",
      " 21  south_tower_lag1week_rollmax   26112 non-null  float64\n",
      " 22  south_tower_lag1week_rollmean  26112 non-null  float64\n",
      " 23  wt_temp                        26112 non-null  float64\n",
      " 24  wt_tmpap                       26112 non-null  float64\n",
      " 25  wt_hr                          26112 non-null  float64\n",
      " 26  wt_max_windgust                26112 non-null  float64\n",
      " 27  wt_mean_windspd                26112 non-null  float64\n",
      " 28  wt_mean_pres                   26112 non-null  float64\n",
      " 29  wt_mean_solarrad               26112 non-null  float64\n",
      " 30  wt_rain_day                    26112 non-null  float64\n",
      " 31  miss_wt                        26112 non-null  int64  \n",
      " 32  miss_south_tower               26112 non-null  int64  \n",
      "dtypes: float64(27), int64(6)\n",
      "memory usage: 6.8 MB\n"
     ]
    }
   ],
   "source": [
    "dt_03_stw.info()"
   ]
  },
  {
   "cell_type": "code",
   "execution_count": null,
   "metadata": {},
   "outputs": [],
   "source": [
    "### TENTAR DIVIDIR JÁ AQUI TUDO ###\n",
    "building_name = 'south_tower'\n",
    "list_col = [building_name]\n",
    "#\n",
    "vars_ = [, 's_', 't_', 'cl_'+building_name, building_name+'_lag', 'wt_', 'miss_wt', 'miss_'+building_name]\n",
    "for var in vars_:\n",
    "    \n",
    "    if '1day' in var:\n",
    "        list_day.append(var)\n",
    "    elif '1hour' in var:\n",
    "        list_hour.append(var)\n",
    "    elif '1week' in var:\n",
    "        list_week.append(var)\n",
    "    else:\n",
    "        list_col.append(select_by_type(dt_01, var))\n",
    "        \n",
    "list_col.append(building_name)\n",
    "\n",
    "# Verify if there isn't any repetitive value\n",
    "#list_col = set(list_col)\n",
    "list_col = [val for sublist in list_col for val in sublist]"
   ]
  },
  {
   "cell_type": "markdown",
   "metadata": {},
   "source": [
    "## Feature Importance"
   ]
  },
  {
   "cell_type": "markdown",
   "metadata": {},
   "source": [
    "### 1.1 Pearson's Correlation"
   ]
  },
  {
   "cell_type": "code",
   "execution_count": null,
   "metadata": {},
   "outputs": [],
   "source": []
  },
  {
   "cell_type": "markdown",
   "metadata": {},
   "source": [
    "### 1.2 Shapiro Feature Importance"
   ]
  },
  {
   "cell_type": "code",
   "execution_count": null,
   "metadata": {},
   "outputs": [],
   "source": []
  },
  {
   "cell_type": "markdown",
   "metadata": {},
   "source": [
    "---"
   ]
  },
  {
   "cell_type": "code",
   "execution_count": null,
   "metadata": {},
   "outputs": [],
   "source": [
    "def select_by_corr(building, dt, corr_limit, retr=False):\n",
    "    dt = dt.loc[:, abs(dt.corr(method='pearson')[building]) > corr_limit]\n",
    "    print(dt.columns)\n",
    "    if retr == True:\n",
    "        return list(dt.columns)"
   ]
  },
  {
   "cell_type": "code",
   "execution_count": null,
   "metadata": {},
   "outputs": [],
   "source": [
    "def print_correlation(building, dt):\n",
    "    with pd.option_context('display.max_rows', None, 'display.max_columns', None):  # more options can be specified also\n",
    "        corr = abs(dt.corr()[building])\n",
    "        corr.iplot(kind='bar')\n",
    "        #corr.plot(figsize=(20,10))\n",
    "        return corr"
   ]
  },
  {
   "cell_type": "code",
   "execution_count": null,
   "metadata": {},
   "outputs": [],
   "source": [
    "def dt_creation(dt, building_name, d_type):\n",
    "    df = dt.filter(regex='^'+d_type, axis=1)\n",
    "    df[building_name] = dt[building_name]\n",
    "    return df\n",
    "\n",
    "def select_cols(dt, vars_list):\n",
    "    list_col = []\n",
    "    for var in vars_list:\n",
    "        cols = [col for col in dt.columns if var in col]\n",
    "        list_col.extend(cols)\n",
    "    return list_col"
   ]
  }
 ],
 "metadata": {
  "kernelspec": {
   "display_name": "Python 3",
   "language": "python",
   "name": "python3"
  },
  "language_info": {
   "codemirror_mode": {
    "name": "ipython",
    "version": 3
   },
   "file_extension": ".py",
   "mimetype": "text/x-python",
   "name": "python",
   "nbconvert_exporter": "python",
   "pygments_lexer": "ipython3",
   "version": "3.6.9"
  }
 },
 "nbformat": 4,
 "nbformat_minor": 4
}
